{
 "cells": [
  {
   "cell_type": "code",
   "execution_count": 1,
   "id": "cd1fbdb0",
   "metadata": {},
   "outputs": [],
   "source": [
    "import numpy as np\n",
    "import pandas as pd\n",
    "import seaborn as sns\n",
    "import matplotlib.pyplot as plt\n",
    "from collections import Counter\n",
    "from colorama import Fore\n",
    "\n",
    "\n",
    "#importing the necessary library for naw"
   ]
  },
  {
   "cell_type": "code",
   "execution_count": 2,
   "id": "8bd6f234",
   "metadata": {},
   "outputs": [
    {
     "data": {
      "text/html": [
       "<div>\n",
       "<style scoped>\n",
       "    .dataframe tbody tr th:only-of-type {\n",
       "        vertical-align: middle;\n",
       "    }\n",
       "\n",
       "    .dataframe tbody tr th {\n",
       "        vertical-align: top;\n",
       "    }\n",
       "\n",
       "    .dataframe thead th {\n",
       "        text-align: right;\n",
       "    }\n",
       "</style>\n",
       "<table border=\"1\" class=\"dataframe\">\n",
       "  <thead>\n",
       "    <tr style=\"text-align: right;\">\n",
       "      <th></th>\n",
       "      <th>tid</th>\n",
       "      <th>datetime</th>\n",
       "      <th>cc_num</th>\n",
       "      <th>category</th>\n",
       "      <th>amount</th>\n",
       "      <th>latitude</th>\n",
       "      <th>longitude</th>\n",
       "      <th>city</th>\n",
       "      <th>country</th>\n",
       "      <th>fraud_label</th>\n",
       "    </tr>\n",
       "  </thead>\n",
       "  <tbody>\n",
       "    <tr>\n",
       "      <th>0</th>\n",
       "      <td>11df919988c134d97bbff2678eb68e22</td>\n",
       "      <td>2022-01-01 00:00:24</td>\n",
       "      <td>4473593503484549</td>\n",
       "      <td>Health/Beauty</td>\n",
       "      <td>62.95</td>\n",
       "      <td>42.30865</td>\n",
       "      <td>-83.48216</td>\n",
       "      <td>Canton</td>\n",
       "      <td>US</td>\n",
       "      <td>0</td>\n",
       "    </tr>\n",
       "    <tr>\n",
       "      <th>1</th>\n",
       "      <td>dd0b2d6d4266ccd3bf05bc2ea91cf180</td>\n",
       "      <td>2022-01-01 00:00:56</td>\n",
       "      <td>4272465718946864</td>\n",
       "      <td>Grocery</td>\n",
       "      <td>85.45</td>\n",
       "      <td>33.52253</td>\n",
       "      <td>-117.70755</td>\n",
       "      <td>Laguna Niguel</td>\n",
       "      <td>US</td>\n",
       "      <td>0</td>\n",
       "    </tr>\n",
       "    <tr>\n",
       "      <th>2</th>\n",
       "      <td>e627f5d9a9739833bd52d2da51761fc3</td>\n",
       "      <td>2022-01-01 00:02:32</td>\n",
       "      <td>4104216579248948</td>\n",
       "      <td>Domestic Transport</td>\n",
       "      <td>21.63</td>\n",
       "      <td>37.60876</td>\n",
       "      <td>-77.37331</td>\n",
       "      <td>Mechanicsville</td>\n",
       "      <td>US</td>\n",
       "      <td>0</td>\n",
       "    </tr>\n",
       "    <tr>\n",
       "      <th>3</th>\n",
       "      <td>6fb3e6beafbb92b8e15827037f603c52</td>\n",
       "      <td>2022-01-01 00:03:24</td>\n",
       "      <td>4814447237003448</td>\n",
       "      <td>Health/Beauty</td>\n",
       "      <td>54.71</td>\n",
       "      <td>43.54072</td>\n",
       "      <td>-116.56346</td>\n",
       "      <td>Nampa</td>\n",
       "      <td>US</td>\n",
       "      <td>0</td>\n",
       "    </tr>\n",
       "    <tr>\n",
       "      <th>4</th>\n",
       "      <td>be0b8acc57bfe126a5a392fd99e6ddd1</td>\n",
       "      <td>2022-01-01 00:03:55</td>\n",
       "      <td>4515188652242507</td>\n",
       "      <td>Grocery</td>\n",
       "      <td>59.22</td>\n",
       "      <td>40.24537</td>\n",
       "      <td>-75.64963</td>\n",
       "      <td>Pottstown</td>\n",
       "      <td>US</td>\n",
       "      <td>0</td>\n",
       "    </tr>\n",
       "  </tbody>\n",
       "</table>\n",
       "</div>"
      ],
      "text/plain": [
       "                                tid             datetime            cc_num  \\\n",
       "0  11df919988c134d97bbff2678eb68e22  2022-01-01 00:00:24  4473593503484549   \n",
       "1  dd0b2d6d4266ccd3bf05bc2ea91cf180  2022-01-01 00:00:56  4272465718946864   \n",
       "2  e627f5d9a9739833bd52d2da51761fc3  2022-01-01 00:02:32  4104216579248948   \n",
       "3  6fb3e6beafbb92b8e15827037f603c52  2022-01-01 00:03:24  4814447237003448   \n",
       "4  be0b8acc57bfe126a5a392fd99e6ddd1  2022-01-01 00:03:55  4515188652242507   \n",
       "\n",
       "             category  amount  latitude  longitude            city country  \\\n",
       "0       Health/Beauty   62.95  42.30865  -83.48216          Canton      US   \n",
       "1             Grocery   85.45  33.52253 -117.70755   Laguna Niguel      US   \n",
       "2  Domestic Transport   21.63  37.60876  -77.37331  Mechanicsville      US   \n",
       "3       Health/Beauty   54.71  43.54072 -116.56346           Nampa      US   \n",
       "4             Grocery   59.22  40.24537  -75.64963       Pottstown      US   \n",
       "\n",
       "   fraud_label  \n",
       "0            0  \n",
       "1            0  \n",
       "2            0  \n",
       "3            0  \n",
       "4            0  "
      ]
     },
     "execution_count": 2,
     "metadata": {},
     "output_type": "execute_result"
    }
   ],
   "source": [
    "tran_df=pd.read_csv(r'C:\\\\Users\\\\HP\\Downloads\\transactions (3).csv')\n",
    "\n",
    "tran_df.head()\n",
    "\n",
    "#read the Data"
   ]
  },
  {
   "cell_type": "code",
   "execution_count": 3,
   "id": "094c89ea",
   "metadata": {},
   "outputs": [
    {
     "data": {
      "text/html": [
       "\n",
       "The dataset tran_df contains 106020 rows and 11 columns. The columns are index, tid, datetime, cc_num, category, amount, latitude, longitude, city, country and fraud_label. The index column is an integer type and the other columns are object, float64 and int64 types. The unique count for each column is equal to the count except for the datetime column which has a unique count of 105092. The quantiles for the amount column are 0.01, 26.74, 60.48, 94.0225 and 29968.32. The fraud_label column has two unique values of 0 and 1. This dataset contains information about transactions such as the transaction id (tid), date and time (datetime), credit card number (cc_num), category of purchase (category), amount spent (amount), location (latitude, longitude and city) and country of purchase (country). It also includes a fraud_label column which indicates whether or not the transaction was fraudulent (0 = not fraudulent, 1 = fraudulent)."
      ],
      "text/plain": [
       "<IPython.core.display.HTML object>"
      ]
     },
     "metadata": {},
     "output_type": "display_data"
    }
   ],
   "source": [
    "import sketch\n",
    "\n",
    "tran_df.sketch.ask('Write  about the dataset')"
   ]
  },
  {
   "cell_type": "markdown",
   "id": "f2fe8458",
   "metadata": {},
   "source": [
    "# Classification Problem, And precisely Fraud Detection"
   ]
  },
  {
   "cell_type": "code",
   "execution_count": 4,
   "id": "dd54504f",
   "metadata": {},
   "outputs": [
    {
     "data": {
      "text/plain": [
       "0    105865\n",
       "1       155\n",
       "Name: fraud_label, dtype: int64"
      ]
     },
     "execution_count": 4,
     "metadata": {},
     "output_type": "execute_result"
    }
   ],
   "source": [
    "tran_df['fraud_label'].value_counts()"
   ]
  },
  {
   "cell_type": "code",
   "execution_count": 5,
   "id": "1f3dd4cb",
   "metadata": {},
   "outputs": [
    {
     "data": {
      "text/html": [
       "\n",
       "<ul>\n",
       "  <li><b>index:</b> Unique numerical identifier for each row in the dataframe.</li>\n",
       "  <li><b>tid:</b> Unique transaction identifier.</li>\n",
       "  <li><b>datetime:</b> Date and time of the transaction.</li>\n",
       "  <li><b>cc_num:</b> Credit card number associated with the transaction.</li>\n",
       "  <li><b>category:</b> Category of the transaction.</li>\n",
       "  <li><b>amount:</b> Amount of the transaction.</li>\n",
       "  <li><b>latitude:</b> Latitude of the location associated with the transaction.</li>\n",
       "  <li><b>longitude:</b> Longitude of the location associated with the transaction.</li>\n",
       "  <li><b>city:</b> City associated with the transaction.</li>\n",
       "  <li><b>country:</b> Country associated with the transaction.</li>\n",
       "  <li><b>fraud_label:</b> Label indicating whether or not the transaction is fraudulent (0 = not fraudulent, 1 = fraudulent).</li>\n",
       "</ul>\n"
      ],
      "text/plain": [
       "<IPython.core.display.HTML object>"
      ]
     },
     "metadata": {},
     "output_type": "display_data"
    }
   ],
   "source": [
    "#getting the columns Description:\n",
    "\n",
    "import sketch\n",
    "\n",
    "tran_df.sketch.ask('Can you give friendly names and single sentneces descriptions of each column?(format output as HTML list)')"
   ]
  },
  {
   "cell_type": "code",
   "execution_count": 6,
   "id": "4716c0da",
   "metadata": {},
   "outputs": [
    {
     "data": {
      "text/html": [
       "<div>\n",
       "<style scoped>\n",
       "    .dataframe tbody tr th:only-of-type {\n",
       "        vertical-align: middle;\n",
       "    }\n",
       "\n",
       "    .dataframe tbody tr th {\n",
       "        vertical-align: top;\n",
       "    }\n",
       "\n",
       "    .dataframe thead th {\n",
       "        text-align: right;\n",
       "    }\n",
       "</style>\n",
       "<table border=\"1\" class=\"dataframe\">\n",
       "  <thead>\n",
       "    <tr style=\"text-align: right;\">\n",
       "      <th></th>\n",
       "      <th>name</th>\n",
       "      <th>sex</th>\n",
       "      <th>mail</th>\n",
       "      <th>birthdate</th>\n",
       "      <th>City</th>\n",
       "      <th>Country</th>\n",
       "      <th>cc_num</th>\n",
       "    </tr>\n",
       "  </thead>\n",
       "  <tbody>\n",
       "    <tr>\n",
       "      <th>0</th>\n",
       "      <td>Catherine Zimmerman</td>\n",
       "      <td>F</td>\n",
       "      <td>valenciajason@hotmail.com</td>\n",
       "      <td>1988-09-20</td>\n",
       "      <td>Bryn Mawr-Skyway</td>\n",
       "      <td>US</td>\n",
       "      <td>4796807885357879</td>\n",
       "    </tr>\n",
       "    <tr>\n",
       "      <th>1</th>\n",
       "      <td>Michael Williams</td>\n",
       "      <td>M</td>\n",
       "      <td>brettkennedy@yahoo.com</td>\n",
       "      <td>1977-03-01</td>\n",
       "      <td>Gates-North Gates</td>\n",
       "      <td>US</td>\n",
       "      <td>4529266636192966</td>\n",
       "    </tr>\n",
       "    <tr>\n",
       "      <th>2</th>\n",
       "      <td>Jessica Krueger</td>\n",
       "      <td>F</td>\n",
       "      <td>marthacruz@hotmail.com</td>\n",
       "      <td>1947-09-10</td>\n",
       "      <td>Greenfield</td>\n",
       "      <td>US</td>\n",
       "      <td>4922690008243953</td>\n",
       "    </tr>\n",
       "    <tr>\n",
       "      <th>3</th>\n",
       "      <td>Ruth Harris</td>\n",
       "      <td>F</td>\n",
       "      <td>james11@yahoo.com</td>\n",
       "      <td>1983-12-27</td>\n",
       "      <td>New City</td>\n",
       "      <td>US</td>\n",
       "      <td>4897369589533543</td>\n",
       "    </tr>\n",
       "    <tr>\n",
       "      <th>4</th>\n",
       "      <td>Paul Ashley</td>\n",
       "      <td>M</td>\n",
       "      <td>matthew97@hotmail.com</td>\n",
       "      <td>1974-11-10</td>\n",
       "      <td>Peabody</td>\n",
       "      <td>US</td>\n",
       "      <td>4848518335893425</td>\n",
       "    </tr>\n",
       "  </tbody>\n",
       "</table>\n",
       "</div>"
      ],
      "text/plain": [
       "                  name sex                       mail   birthdate  \\\n",
       "0  Catherine Zimmerman   F  valenciajason@hotmail.com  1988-09-20   \n",
       "1     Michael Williams   M     brettkennedy@yahoo.com  1977-03-01   \n",
       "2      Jessica Krueger   F     marthacruz@hotmail.com  1947-09-10   \n",
       "3          Ruth Harris   F          james11@yahoo.com  1983-12-27   \n",
       "4          Paul Ashley   M      matthew97@hotmail.com  1974-11-10   \n",
       "\n",
       "                City Country            cc_num  \n",
       "0   Bryn Mawr-Skyway      US  4796807885357879  \n",
       "1  Gates-North Gates      US  4529266636192966  \n",
       "2         Greenfield      US  4922690008243953  \n",
       "3           New City      US  4897369589533543  \n",
       "4            Peabody      US  4848518335893425  "
      ]
     },
     "execution_count": 6,
     "metadata": {},
     "output_type": "execute_result"
    }
   ],
   "source": [
    "#importing other dataset\n",
    "\n",
    "prof_df=pd.read_csv(r'C:\\\\Users\\\\HP\\Downloads\\profiles (1).csv')\n",
    "\n",
    "\n",
    "prof_df.head()"
   ]
  },
  {
   "cell_type": "code",
   "execution_count": 7,
   "id": "502ba6a0",
   "metadata": {},
   "outputs": [
    {
     "data": {
      "text/html": [
       "\n",
       "The prof_df dataset contains 2000 rows and 7 columns. The index column is an integer type, while the other columns are object types. The name column has 1968 unique values, the sex column has 2 unique values, the mail column has 1987 unique values, the birthdate column has 1923 unique values, the City column has 161 unique values, and the Country column has 1 unique value. The cc_num column is an integer type with 2000 unique values. The quantiles for the index and cc_num columns are 0.0, 499.75, 999.5, 1499.25, and 1999.0 respectively. This dataset provides information about 2000 individuals including their name, sex, email address, birthdate, city of residence, country of residence, and credit card number."
      ],
      "text/plain": [
       "<IPython.core.display.HTML object>"
      ]
     },
     "metadata": {},
     "output_type": "display_data"
    }
   ],
   "source": [
    "#Custumer Profile Data\n",
    "\n",
    "\n",
    "prof_df.sketch.ask('Write  about the dataset')\n"
   ]
  },
  {
   "cell_type": "code",
   "execution_count": 8,
   "id": "2527e4f3",
   "metadata": {},
   "outputs": [
    {
     "data": {
      "text/html": [
       "\n",
       "<ul>\n",
       "  <li><strong>index:</strong> Unique numerical identifier for each row in the dataframe.</li>\n",
       "  <li><strong>name:</strong> Name of the person.</li>\n",
       "  <li><strong>sex:</strong> Gender of the person.</li>\n",
       "  <li><strong>mail:</strong> Email address of the person.</li>\n",
       "  <li><strong>birthdate:</strong> Date of birth of the person.</li>\n",
       "  <li><strong>City:</strong> City of residence of the person.</li>\n",
       "  <li><strong>Country:</strong> Country of residence of the person.</li>\n",
       "  <li><strong>cc_num:</strong> Credit card number of the person.</li>\n",
       "</ul>\n"
      ],
      "text/plain": [
       "<IPython.core.display.HTML object>"
      ]
     },
     "metadata": {},
     "output_type": "display_data"
    }
   ],
   "source": [
    "prof_df.sketch.ask('Can you give friendly names and single sentneces descriptions of each column?(format output as HTML list)')"
   ]
  },
  {
   "cell_type": "code",
   "execution_count": 9,
   "id": "4269cf1e",
   "metadata": {},
   "outputs": [
    {
     "data": {
      "text/html": [
       "<div>\n",
       "<style scoped>\n",
       "    .dataframe tbody tr th:only-of-type {\n",
       "        vertical-align: middle;\n",
       "    }\n",
       "\n",
       "    .dataframe tbody tr th {\n",
       "        vertical-align: top;\n",
       "    }\n",
       "\n",
       "    .dataframe thead th {\n",
       "        text-align: right;\n",
       "    }\n",
       "</style>\n",
       "<table border=\"1\" class=\"dataframe\">\n",
       "  <thead>\n",
       "    <tr style=\"text-align: right;\">\n",
       "      <th></th>\n",
       "      <th>Unnamed: 0</th>\n",
       "      <th>cc_num</th>\n",
       "      <th>provider</th>\n",
       "      <th>expires</th>\n",
       "      <th>date_added</th>\n",
       "    </tr>\n",
       "  </thead>\n",
       "  <tbody>\n",
       "    <tr>\n",
       "      <th>0</th>\n",
       "      <td>0</td>\n",
       "      <td>4796807885357879</td>\n",
       "      <td>visa</td>\n",
       "      <td>05/23</td>\n",
       "      <td>2022-09-01 19:50</td>\n",
       "    </tr>\n",
       "    <tr>\n",
       "      <th>1</th>\n",
       "      <td>1</td>\n",
       "      <td>4529266636192966</td>\n",
       "      <td>visa</td>\n",
       "      <td>03/22</td>\n",
       "      <td>2022-09-01 19:50</td>\n",
       "    </tr>\n",
       "    <tr>\n",
       "      <th>2</th>\n",
       "      <td>2</td>\n",
       "      <td>4922690008243953</td>\n",
       "      <td>visa</td>\n",
       "      <td>02/27</td>\n",
       "      <td>2022-09-01 19:50</td>\n",
       "    </tr>\n",
       "    <tr>\n",
       "      <th>3</th>\n",
       "      <td>3</td>\n",
       "      <td>4897369589533543</td>\n",
       "      <td>visa</td>\n",
       "      <td>04/22</td>\n",
       "      <td>2022-09-01 19:50</td>\n",
       "    </tr>\n",
       "    <tr>\n",
       "      <th>4</th>\n",
       "      <td>4</td>\n",
       "      <td>4848518335893425</td>\n",
       "      <td>visa</td>\n",
       "      <td>10/26</td>\n",
       "      <td>2022-09-01 19:50</td>\n",
       "    </tr>\n",
       "  </tbody>\n",
       "</table>\n",
       "</div>"
      ],
      "text/plain": [
       "   Unnamed: 0            cc_num provider expires        date_added\n",
       "0           0  4796807885357879     visa   05/23  2022-09-01 19:50\n",
       "1           1  4529266636192966     visa   03/22  2022-09-01 19:50\n",
       "2           2  4922690008243953     visa   02/27  2022-09-01 19:50\n",
       "3           3  4897369589533543     visa   04/22  2022-09-01 19:50\n",
       "4           4  4848518335893425     visa   10/26  2022-09-01 19:50"
      ]
     },
     "execution_count": 9,
     "metadata": {},
     "output_type": "execute_result"
    }
   ],
   "source": [
    "#Importing the creditcard of the custumers\n",
    "\n",
    "cred_df=pd.read_csv(r'C:\\\\Users\\\\HP\\Downloads\\credit_cards_with_date_added (1).csv')\n",
    "\n",
    "cred_df.head()"
   ]
  },
  {
   "cell_type": "code",
   "execution_count": 10,
   "id": "1a5122de",
   "metadata": {},
   "outputs": [
    {
     "data": {
      "text/html": [
       "\n",
       "The cred_df dataset contains 2000 rows and 5 columns. The index column is an integer type, while the Unnamed: 0 column is also an integer type. The cc_num column is an integer type, containing unique credit card numbers. The provider column is an object type, with only one unique value of 'visa'. The expires column is an object type, containing 65 unique values of expiration dates. Finally, the date_added column is an object type, with only one unique value of '2022-09-01 19:50'. The quantiles for the index and Unnamed: 0 columns are 0.0, 499.75, 999.5, 1499.25, and 1999.0 respectively."
      ],
      "text/plain": [
       "<IPython.core.display.HTML object>"
      ]
     },
     "metadata": {},
     "output_type": "display_data"
    }
   ],
   "source": [
    "cred_df.sketch.ask('Write  about the dataset')"
   ]
  },
  {
   "cell_type": "code",
   "execution_count": 11,
   "id": "05b1880a",
   "metadata": {},
   "outputs": [
    {
     "data": {
      "text/html": [
       "<div>\n",
       "<style scoped>\n",
       "    .dataframe tbody tr th:only-of-type {\n",
       "        vertical-align: middle;\n",
       "    }\n",
       "\n",
       "    .dataframe tbody tr th {\n",
       "        vertical-align: top;\n",
       "    }\n",
       "\n",
       "    .dataframe thead th {\n",
       "        text-align: right;\n",
       "    }\n",
       "</style>\n",
       "<table border=\"1\" class=\"dataframe\">\n",
       "  <thead>\n",
       "    <tr style=\"text-align: right;\">\n",
       "      <th></th>\n",
       "      <th>cc_num</th>\n",
       "      <th>provider</th>\n",
       "      <th>expires</th>\n",
       "    </tr>\n",
       "  </thead>\n",
       "  <tbody>\n",
       "    <tr>\n",
       "      <th>0</th>\n",
       "      <td>4796807885357879</td>\n",
       "      <td>visa</td>\n",
       "      <td>05/23</td>\n",
       "    </tr>\n",
       "    <tr>\n",
       "      <th>1</th>\n",
       "      <td>4529266636192966</td>\n",
       "      <td>visa</td>\n",
       "      <td>03/22</td>\n",
       "    </tr>\n",
       "    <tr>\n",
       "      <th>2</th>\n",
       "      <td>4922690008243953</td>\n",
       "      <td>visa</td>\n",
       "      <td>02/27</td>\n",
       "    </tr>\n",
       "    <tr>\n",
       "      <th>3</th>\n",
       "      <td>4897369589533543</td>\n",
       "      <td>visa</td>\n",
       "      <td>04/22</td>\n",
       "    </tr>\n",
       "    <tr>\n",
       "      <th>4</th>\n",
       "      <td>4848518335893425</td>\n",
       "      <td>visa</td>\n",
       "      <td>10/26</td>\n",
       "    </tr>\n",
       "  </tbody>\n",
       "</table>\n",
       "</div>"
      ],
      "text/plain": [
       "             cc_num provider expires\n",
       "0  4796807885357879     visa   05/23\n",
       "1  4529266636192966     visa   03/22\n",
       "2  4922690008243953     visa   02/27\n",
       "3  4897369589533543     visa   04/22\n",
       "4  4848518335893425     visa   10/26"
      ]
     },
     "execution_count": 11,
     "metadata": {},
     "output_type": "execute_result"
    }
   ],
   "source": [
    "#importing another creditcard data of the ciustumers\n",
    "\n",
    "cre_df=pd.read_csv('C:\\\\Users\\\\HP\\Downloads\\credit_cards (1).csv')\n",
    "\n",
    "cre_df.head()"
   ]
  },
  {
   "cell_type": "code",
   "execution_count": 12,
   "id": "458b0296",
   "metadata": {},
   "outputs": [
    {
     "data": {
      "text/html": [
       "\n",
       "The cre_df dataset contains 2000 rows and 3 columns. The index column is an integer type, the cc_num column is an integer type, and the provider and expires columns are object types. The unique count for each column is 2000, indicating that all values are unique. The quantiles for the index and cc_num columns are 0.0, 499.75, 999.5, 1499.25, and 1999.0 respectively. The head sample for the provider and expires columns show that all values are 'visa' and a range of dates from 05/23 to 10/26 respectively. This dataset contains information about credit cards such as the card number, provider, and expiration date."
      ],
      "text/plain": [
       "<IPython.core.display.HTML object>"
      ]
     },
     "metadata": {},
     "output_type": "display_data"
    }
   ],
   "source": [
    "cre_df.sketch.ask('Write about the dataset ?')"
   ]
  },
  {
   "cell_type": "markdown",
   "id": "8a55998a",
   "metadata": {},
   "source": [
    "We telling Sketch to help with the Data Set description so as it can enable our analytical Journey Simple"
   ]
  },
  {
   "cell_type": "markdown",
   "id": "f0a67401",
   "metadata": {},
   "source": [
    ">> Data Observation;\n",
    "After a carefull review on the Table cre_df and cred_df look alike,\n",
    "\n",
    "so we using one of them\n",
    "we will be merging the table together oo"
   ]
  },
  {
   "cell_type": "code",
   "execution_count": 13,
   "id": "031e5e08",
   "metadata": {},
   "outputs": [
    {
     "data": {
      "text/html": [
       "<div>\n",
       "<style scoped>\n",
       "    .dataframe tbody tr th:only-of-type {\n",
       "        vertical-align: middle;\n",
       "    }\n",
       "\n",
       "    .dataframe tbody tr th {\n",
       "        vertical-align: top;\n",
       "    }\n",
       "\n",
       "    .dataframe thead th {\n",
       "        text-align: right;\n",
       "    }\n",
       "</style>\n",
       "<table border=\"1\" class=\"dataframe\">\n",
       "  <thead>\n",
       "    <tr style=\"text-align: right;\">\n",
       "      <th></th>\n",
       "      <th>name</th>\n",
       "      <th>sex</th>\n",
       "      <th>mail</th>\n",
       "      <th>birthdate</th>\n",
       "      <th>City</th>\n",
       "      <th>Country</th>\n",
       "      <th>cc_num</th>\n",
       "      <th>Unnamed: 0</th>\n",
       "      <th>provider</th>\n",
       "      <th>expires</th>\n",
       "      <th>date_added</th>\n",
       "    </tr>\n",
       "  </thead>\n",
       "  <tbody>\n",
       "    <tr>\n",
       "      <th>0</th>\n",
       "      <td>Catherine Zimmerman</td>\n",
       "      <td>F</td>\n",
       "      <td>valenciajason@hotmail.com</td>\n",
       "      <td>1988-09-20</td>\n",
       "      <td>Bryn Mawr-Skyway</td>\n",
       "      <td>US</td>\n",
       "      <td>4796807885357879</td>\n",
       "      <td>0</td>\n",
       "      <td>visa</td>\n",
       "      <td>05/23</td>\n",
       "      <td>2022-09-01 19:50</td>\n",
       "    </tr>\n",
       "    <tr>\n",
       "      <th>1</th>\n",
       "      <td>Michael Williams</td>\n",
       "      <td>M</td>\n",
       "      <td>brettkennedy@yahoo.com</td>\n",
       "      <td>1977-03-01</td>\n",
       "      <td>Gates-North Gates</td>\n",
       "      <td>US</td>\n",
       "      <td>4529266636192966</td>\n",
       "      <td>1</td>\n",
       "      <td>visa</td>\n",
       "      <td>03/22</td>\n",
       "      <td>2022-09-01 19:50</td>\n",
       "    </tr>\n",
       "    <tr>\n",
       "      <th>2</th>\n",
       "      <td>Jessica Krueger</td>\n",
       "      <td>F</td>\n",
       "      <td>marthacruz@hotmail.com</td>\n",
       "      <td>1947-09-10</td>\n",
       "      <td>Greenfield</td>\n",
       "      <td>US</td>\n",
       "      <td>4922690008243953</td>\n",
       "      <td>2</td>\n",
       "      <td>visa</td>\n",
       "      <td>02/27</td>\n",
       "      <td>2022-09-01 19:50</td>\n",
       "    </tr>\n",
       "    <tr>\n",
       "      <th>3</th>\n",
       "      <td>Ruth Harris</td>\n",
       "      <td>F</td>\n",
       "      <td>james11@yahoo.com</td>\n",
       "      <td>1983-12-27</td>\n",
       "      <td>New City</td>\n",
       "      <td>US</td>\n",
       "      <td>4897369589533543</td>\n",
       "      <td>3</td>\n",
       "      <td>visa</td>\n",
       "      <td>04/22</td>\n",
       "      <td>2022-09-01 19:50</td>\n",
       "    </tr>\n",
       "    <tr>\n",
       "      <th>4</th>\n",
       "      <td>Paul Ashley</td>\n",
       "      <td>M</td>\n",
       "      <td>matthew97@hotmail.com</td>\n",
       "      <td>1974-11-10</td>\n",
       "      <td>Peabody</td>\n",
       "      <td>US</td>\n",
       "      <td>4848518335893425</td>\n",
       "      <td>4</td>\n",
       "      <td>visa</td>\n",
       "      <td>10/26</td>\n",
       "      <td>2022-09-01 19:50</td>\n",
       "    </tr>\n",
       "    <tr>\n",
       "      <th>...</th>\n",
       "      <td>...</td>\n",
       "      <td>...</td>\n",
       "      <td>...</td>\n",
       "      <td>...</td>\n",
       "      <td>...</td>\n",
       "      <td>...</td>\n",
       "      <td>...</td>\n",
       "      <td>...</td>\n",
       "      <td>...</td>\n",
       "      <td>...</td>\n",
       "      <td>...</td>\n",
       "    </tr>\n",
       "    <tr>\n",
       "      <th>1995</th>\n",
       "      <td>Megan Ramirez</td>\n",
       "      <td>F</td>\n",
       "      <td>jmorrison@gmail.com</td>\n",
       "      <td>1924-06-28</td>\n",
       "      <td>Stockbridge</td>\n",
       "      <td>US</td>\n",
       "      <td>4473593503484549</td>\n",
       "      <td>1995</td>\n",
       "      <td>visa</td>\n",
       "      <td>01/26</td>\n",
       "      <td>2022-09-01 19:50</td>\n",
       "    </tr>\n",
       "    <tr>\n",
       "      <th>1996</th>\n",
       "      <td>Jessica Gould</td>\n",
       "      <td>F</td>\n",
       "      <td>larrydiaz@yahoo.com</td>\n",
       "      <td>1925-11-07</td>\n",
       "      <td>Port Richmond</td>\n",
       "      <td>US</td>\n",
       "      <td>4483607926610254</td>\n",
       "      <td>1996</td>\n",
       "      <td>visa</td>\n",
       "      <td>08/26</td>\n",
       "      <td>2022-09-01 19:50</td>\n",
       "    </tr>\n",
       "    <tr>\n",
       "      <th>1997</th>\n",
       "      <td>Adam Black</td>\n",
       "      <td>M</td>\n",
       "      <td>richardrusso@yahoo.com</td>\n",
       "      <td>1980-09-15</td>\n",
       "      <td>Brentwood Estates</td>\n",
       "      <td>US</td>\n",
       "      <td>4249540384047310</td>\n",
       "      <td>1997</td>\n",
       "      <td>visa</td>\n",
       "      <td>10/22</td>\n",
       "      <td>2022-09-01 19:50</td>\n",
       "    </tr>\n",
       "    <tr>\n",
       "      <th>1998</th>\n",
       "      <td>Brooke Robinson</td>\n",
       "      <td>F</td>\n",
       "      <td>cwagner@hotmail.com</td>\n",
       "      <td>1986-11-05</td>\n",
       "      <td>Redding</td>\n",
       "      <td>US</td>\n",
       "      <td>4325889817240225</td>\n",
       "      <td>1998</td>\n",
       "      <td>visa</td>\n",
       "      <td>03/24</td>\n",
       "      <td>2022-09-01 19:50</td>\n",
       "    </tr>\n",
       "    <tr>\n",
       "      <th>1999</th>\n",
       "      <td>Mr. Jeff Torres</td>\n",
       "      <td>M</td>\n",
       "      <td>robert76@gmail.com</td>\n",
       "      <td>1932-11-13</td>\n",
       "      <td>Tupelo</td>\n",
       "      <td>US</td>\n",
       "      <td>4653925648407310</td>\n",
       "      <td>1999</td>\n",
       "      <td>visa</td>\n",
       "      <td>04/22</td>\n",
       "      <td>2022-09-01 19:50</td>\n",
       "    </tr>\n",
       "  </tbody>\n",
       "</table>\n",
       "<p>2000 rows × 11 columns</p>\n",
       "</div>"
      ],
      "text/plain": [
       "                     name sex                       mail   birthdate  \\\n",
       "0     Catherine Zimmerman   F  valenciajason@hotmail.com  1988-09-20   \n",
       "1        Michael Williams   M     brettkennedy@yahoo.com  1977-03-01   \n",
       "2         Jessica Krueger   F     marthacruz@hotmail.com  1947-09-10   \n",
       "3             Ruth Harris   F          james11@yahoo.com  1983-12-27   \n",
       "4             Paul Ashley   M      matthew97@hotmail.com  1974-11-10   \n",
       "...                   ...  ..                        ...         ...   \n",
       "1995        Megan Ramirez   F        jmorrison@gmail.com  1924-06-28   \n",
       "1996        Jessica Gould   F        larrydiaz@yahoo.com  1925-11-07   \n",
       "1997           Adam Black   M     richardrusso@yahoo.com  1980-09-15   \n",
       "1998      Brooke Robinson   F        cwagner@hotmail.com  1986-11-05   \n",
       "1999      Mr. Jeff Torres   M         robert76@gmail.com  1932-11-13   \n",
       "\n",
       "                   City Country            cc_num  Unnamed: 0 provider  \\\n",
       "0      Bryn Mawr-Skyway      US  4796807885357879           0     visa   \n",
       "1     Gates-North Gates      US  4529266636192966           1     visa   \n",
       "2            Greenfield      US  4922690008243953           2     visa   \n",
       "3              New City      US  4897369589533543           3     visa   \n",
       "4               Peabody      US  4848518335893425           4     visa   \n",
       "...                 ...     ...               ...         ...      ...   \n",
       "1995        Stockbridge      US  4473593503484549        1995     visa   \n",
       "1996      Port Richmond      US  4483607926610254        1996     visa   \n",
       "1997  Brentwood Estates      US  4249540384047310        1997     visa   \n",
       "1998            Redding      US  4325889817240225        1998     visa   \n",
       "1999             Tupelo      US  4653925648407310        1999     visa   \n",
       "\n",
       "     expires        date_added  \n",
       "0      05/23  2022-09-01 19:50  \n",
       "1      03/22  2022-09-01 19:50  \n",
       "2      02/27  2022-09-01 19:50  \n",
       "3      04/22  2022-09-01 19:50  \n",
       "4      10/26  2022-09-01 19:50  \n",
       "...      ...               ...  \n",
       "1995   01/26  2022-09-01 19:50  \n",
       "1996   08/26  2022-09-01 19:50  \n",
       "1997   10/22  2022-09-01 19:50  \n",
       "1998   03/24  2022-09-01 19:50  \n",
       "1999   04/22  2022-09-01 19:50  \n",
       "\n",
       "[2000 rows x 11 columns]"
      ]
     },
     "execution_count": 13,
     "metadata": {},
     "output_type": "execute_result"
    }
   ],
   "source": [
    "#Merging Credit card Table to profil custumer table.\n",
    "\n",
    "data=prof_df.merge(cred_df,on='cc_num')\n",
    "\n",
    "data"
   ]
  },
  {
   "cell_type": "code",
   "execution_count": 14,
   "id": "fbd083c0",
   "metadata": {},
   "outputs": [
    {
     "data": {
      "text/plain": [
       "name          0\n",
       "sex           0\n",
       "mail          0\n",
       "birthdate     0\n",
       "City          0\n",
       "Country       0\n",
       "cc_num        0\n",
       "Unnamed: 0    0\n",
       "provider      0\n",
       "expires       0\n",
       "date_added    0\n",
       "dtype: int64"
      ]
     },
     "execution_count": 14,
     "metadata": {},
     "output_type": "execute_result"
    }
   ],
   "source": [
    "#Checking if we gat missing Values\n",
    "\n",
    "data.isnull().sum()"
   ]
  },
  {
   "cell_type": "code",
   "execution_count": 15,
   "id": "89c6a04c",
   "metadata": {},
   "outputs": [
    {
     "data": {
      "text/html": [
       "<div>\n",
       "<style scoped>\n",
       "    .dataframe tbody tr th:only-of-type {\n",
       "        vertical-align: middle;\n",
       "    }\n",
       "\n",
       "    .dataframe tbody tr th {\n",
       "        vertical-align: top;\n",
       "    }\n",
       "\n",
       "    .dataframe thead th {\n",
       "        text-align: right;\n",
       "    }\n",
       "</style>\n",
       "<table border=\"1\" class=\"dataframe\">\n",
       "  <thead>\n",
       "    <tr style=\"text-align: right;\">\n",
       "      <th></th>\n",
       "      <th>name</th>\n",
       "      <th>sex</th>\n",
       "      <th>mail</th>\n",
       "      <th>birthdate</th>\n",
       "      <th>City</th>\n",
       "      <th>Country</th>\n",
       "      <th>cc_num</th>\n",
       "      <th>Unnamed: 0</th>\n",
       "      <th>provider</th>\n",
       "      <th>expires</th>\n",
       "      <th>date_added</th>\n",
       "    </tr>\n",
       "  </thead>\n",
       "  <tbody>\n",
       "    <tr>\n",
       "      <th>282</th>\n",
       "      <td>Heather Duarte</td>\n",
       "      <td>F</td>\n",
       "      <td>benjamin14@hotmail.com</td>\n",
       "      <td>1978-12-19</td>\n",
       "      <td>Front Royal</td>\n",
       "      <td>US</td>\n",
       "      <td>4317369982403577</td>\n",
       "      <td>282</td>\n",
       "      <td>visa</td>\n",
       "      <td>03/26</td>\n",
       "      <td>2022-09-01 19:50</td>\n",
       "    </tr>\n",
       "    <tr>\n",
       "      <th>1715</th>\n",
       "      <td>Julie Porter</td>\n",
       "      <td>F</td>\n",
       "      <td>chris08@yahoo.com</td>\n",
       "      <td>1940-01-27</td>\n",
       "      <td>Muskogee</td>\n",
       "      <td>US</td>\n",
       "      <td>4084347171038538</td>\n",
       "      <td>1715</td>\n",
       "      <td>visa</td>\n",
       "      <td>11/23</td>\n",
       "      <td>2022-09-01 19:50</td>\n",
       "    </tr>\n",
       "    <tr>\n",
       "      <th>1533</th>\n",
       "      <td>Molly Huff</td>\n",
       "      <td>F</td>\n",
       "      <td>jared62@gmail.com</td>\n",
       "      <td>1958-03-13</td>\n",
       "      <td>Muskogee</td>\n",
       "      <td>US</td>\n",
       "      <td>4506551945996190</td>\n",
       "      <td>1533</td>\n",
       "      <td>visa</td>\n",
       "      <td>10/26</td>\n",
       "      <td>2022-09-01 19:50</td>\n",
       "    </tr>\n",
       "    <tr>\n",
       "      <th>458</th>\n",
       "      <td>Jonathan Gonzalez</td>\n",
       "      <td>M</td>\n",
       "      <td>valdezlisa@hotmail.com</td>\n",
       "      <td>2001-03-26</td>\n",
       "      <td>Woodbridge</td>\n",
       "      <td>US</td>\n",
       "      <td>4990752634355457</td>\n",
       "      <td>458</td>\n",
       "      <td>visa</td>\n",
       "      <td>06/22</td>\n",
       "      <td>2022-09-01 19:50</td>\n",
       "    </tr>\n",
       "  </tbody>\n",
       "</table>\n",
       "</div>"
      ],
      "text/plain": [
       "                   name sex                    mail   birthdate         City  \\\n",
       "282      Heather Duarte   F  benjamin14@hotmail.com  1978-12-19  Front Royal   \n",
       "1715       Julie Porter   F       chris08@yahoo.com  1940-01-27     Muskogee   \n",
       "1533         Molly Huff   F       jared62@gmail.com  1958-03-13     Muskogee   \n",
       "458   Jonathan Gonzalez   M  valdezlisa@hotmail.com  2001-03-26   Woodbridge   \n",
       "\n",
       "     Country            cc_num  Unnamed: 0 provider expires        date_added  \n",
       "282       US  4317369982403577         282     visa   03/26  2022-09-01 19:50  \n",
       "1715      US  4084347171038538        1715     visa   11/23  2022-09-01 19:50  \n",
       "1533      US  4506551945996190        1533     visa   10/26  2022-09-01 19:50  \n",
       "458       US  4990752634355457         458     visa   06/22  2022-09-01 19:50  "
      ]
     },
     "execution_count": 15,
     "metadata": {},
     "output_type": "execute_result"
    }
   ],
   "source": [
    "data.sample(4)"
   ]
  },
  {
   "cell_type": "code",
   "execution_count": 16,
   "id": "b125468b",
   "metadata": {},
   "outputs": [
    {
     "data": {
      "text/html": [
       "<div>\n",
       "<style scoped>\n",
       "    .dataframe tbody tr th:only-of-type {\n",
       "        vertical-align: middle;\n",
       "    }\n",
       "\n",
       "    .dataframe tbody tr th {\n",
       "        vertical-align: top;\n",
       "    }\n",
       "\n",
       "    .dataframe thead th {\n",
       "        text-align: right;\n",
       "    }\n",
       "</style>\n",
       "<table border=\"1\" class=\"dataframe\">\n",
       "  <thead>\n",
       "    <tr style=\"text-align: right;\">\n",
       "      <th></th>\n",
       "      <th>tid</th>\n",
       "      <th>datetime</th>\n",
       "      <th>cc_num</th>\n",
       "      <th>category</th>\n",
       "      <th>amount</th>\n",
       "      <th>latitude</th>\n",
       "      <th>longitude</th>\n",
       "      <th>city</th>\n",
       "      <th>country</th>\n",
       "      <th>fraud_label</th>\n",
       "    </tr>\n",
       "  </thead>\n",
       "  <tbody>\n",
       "    <tr>\n",
       "      <th>31314</th>\n",
       "      <td>2ed2215c530bb736b247ef83d574c065</td>\n",
       "      <td>2022-02-04 07:40:55</td>\n",
       "      <td>4566810570302596</td>\n",
       "      <td>Grocery</td>\n",
       "      <td>65.95</td>\n",
       "      <td>33.981540</td>\n",
       "      <td>-81.236210</td>\n",
       "      <td>Lexington</td>\n",
       "      <td>US</td>\n",
       "      <td>0</td>\n",
       "    </tr>\n",
       "    <tr>\n",
       "      <th>76246</th>\n",
       "      <td>e270335e3a40a899a180842965bffead</td>\n",
       "      <td>2022-03-23 03:40:42</td>\n",
       "      <td>4375993794662796</td>\n",
       "      <td>Cash Withdrawal</td>\n",
       "      <td>33.38</td>\n",
       "      <td>34.250087</td>\n",
       "      <td>-78.034558</td>\n",
       "      <td>Leland</td>\n",
       "      <td>US</td>\n",
       "      <td>0</td>\n",
       "    </tr>\n",
       "    <tr>\n",
       "      <th>74025</th>\n",
       "      <td>10b26bdc1c27047008dfbec48b57fd4d</td>\n",
       "      <td>2022-01-18 00:52:55</td>\n",
       "      <td>4628473285753839</td>\n",
       "      <td>Cash Withdrawal</td>\n",
       "      <td>4897.37</td>\n",
       "      <td>41.528535</td>\n",
       "      <td>-74.014137</td>\n",
       "      <td>Newburgh</td>\n",
       "      <td>US</td>\n",
       "      <td>0</td>\n",
       "    </tr>\n",
       "  </tbody>\n",
       "</table>\n",
       "</div>"
      ],
      "text/plain": [
       "                                    tid             datetime  \\\n",
       "31314  2ed2215c530bb736b247ef83d574c065  2022-02-04 07:40:55   \n",
       "76246  e270335e3a40a899a180842965bffead  2022-03-23 03:40:42   \n",
       "74025  10b26bdc1c27047008dfbec48b57fd4d  2022-01-18 00:52:55   \n",
       "\n",
       "                 cc_num         category   amount   latitude  longitude  \\\n",
       "31314  4566810570302596          Grocery    65.95  33.981540 -81.236210   \n",
       "76246  4375993794662796  Cash Withdrawal    33.38  34.250087 -78.034558   \n",
       "74025  4628473285753839  Cash Withdrawal  4897.37  41.528535 -74.014137   \n",
       "\n",
       "            city country  fraud_label  \n",
       "31314  Lexington      US            0  \n",
       "76246     Leland      US            0  \n",
       "74025   Newburgh      US            0  "
      ]
     },
     "execution_count": 16,
     "metadata": {},
     "output_type": "execute_result"
    }
   ],
   "source": [
    "tran_df.sample(3)"
   ]
  },
  {
   "cell_type": "code",
   "execution_count": 17,
   "id": "64faba48",
   "metadata": {},
   "outputs": [
    {
     "data": {
      "text/plain": [
       "4796807885357879    1\n",
       "4899084683507131    1\n",
       "4884550899940453    1\n",
       "4735946793186816    1\n",
       "4197564878654854    1\n",
       "                   ..\n",
       "4043005422002519    1\n",
       "4936368304338116    1\n",
       "4496552549494154    1\n",
       "4261111549394857    1\n",
       "4653925648407310    1\n",
       "Name: cc_num, Length: 2000, dtype: int64"
      ]
     },
     "execution_count": 17,
     "metadata": {},
     "output_type": "execute_result"
    }
   ],
   "source": [
    "#Checking if the Credit card number associated with the transaction.\n",
    "\n",
    "data['cc_num'].value_counts()"
   ]
  },
  {
   "cell_type": "markdown",
   "id": "3210fcbd",
   "metadata": {},
   "source": [
    "**This is beautiful, this is telling us That we gat one individual with one cradit card transaction...**\n",
    "\n"
   ]
  },
  {
   "cell_type": "code",
   "execution_count": 18,
   "id": "7cd1c16b",
   "metadata": {},
   "outputs": [
    {
     "data": {
      "text/plain": [
       "4044149520758363    97\n",
       "4211111162683181    94\n",
       "4791644955349923    94\n",
       "4830331353631952    94\n",
       "4071669754867768    93\n",
       "                    ..\n",
       "4926057769846455    14\n",
       "4437719279871164    14\n",
       "4920813497351531    14\n",
       "4820562401698567    13\n",
       "4812592099091684    10\n",
       "Name: cc_num, Length: 2000, dtype: int64"
      ]
     },
     "execution_count": 18,
     "metadata": {},
     "output_type": "execute_result"
    }
   ],
   "source": [
    "#in the tranaction tbl we counting the Number of transactioin that occur?\n",
    "\n",
    "tran_df['cc_num'].value_counts()"
   ]
  },
  {
   "cell_type": "code",
   "execution_count": 19,
   "id": "093f70de",
   "metadata": {},
   "outputs": [],
   "source": [
    "#The count of the Individual custumers on Transaction"
   ]
  },
  {
   "cell_type": "code",
   "execution_count": 20,
   "id": "102dac66",
   "metadata": {},
   "outputs": [
    {
     "data": {
      "text/html": [
       "<div>\n",
       "<style scoped>\n",
       "    .dataframe tbody tr th:only-of-type {\n",
       "        vertical-align: middle;\n",
       "    }\n",
       "\n",
       "    .dataframe tbody tr th {\n",
       "        vertical-align: top;\n",
       "    }\n",
       "\n",
       "    .dataframe thead th {\n",
       "        text-align: right;\n",
       "    }\n",
       "</style>\n",
       "<table border=\"1\" class=\"dataframe\">\n",
       "  <thead>\n",
       "    <tr style=\"text-align: right;\">\n",
       "      <th></th>\n",
       "      <th>name</th>\n",
       "      <th>sex</th>\n",
       "      <th>mail</th>\n",
       "      <th>birthdate</th>\n",
       "      <th>City</th>\n",
       "      <th>Country</th>\n",
       "      <th>cc_num</th>\n",
       "      <th>Unnamed: 0</th>\n",
       "      <th>provider</th>\n",
       "      <th>expires</th>\n",
       "      <th>date_added</th>\n",
       "    </tr>\n",
       "  </thead>\n",
       "  <tbody>\n",
       "    <tr>\n",
       "      <th>211</th>\n",
       "      <td>Sharon Rice</td>\n",
       "      <td>F</td>\n",
       "      <td>lorilopez@yahoo.com</td>\n",
       "      <td>1928-06-21</td>\n",
       "      <td>Utica</td>\n",
       "      <td>US</td>\n",
       "      <td>4044149520758363</td>\n",
       "      <td>211</td>\n",
       "      <td>visa</td>\n",
       "      <td>11/25</td>\n",
       "      <td>2022-09-01 19:50</td>\n",
       "    </tr>\n",
       "  </tbody>\n",
       "</table>\n",
       "</div>"
      ],
      "text/plain": [
       "            name sex                 mail   birthdate   City Country  \\\n",
       "211  Sharon Rice   F  lorilopez@yahoo.com  1928-06-21  Utica      US   \n",
       "\n",
       "               cc_num  Unnamed: 0 provider expires        date_added  \n",
       "211  4044149520758363         211     visa   11/25  2022-09-01 19:50  "
      ]
     },
     "execution_count": 20,
     "metadata": {},
     "output_type": "execute_result"
    }
   ],
   "source": [
    "#so we will be Tracking it down, \n",
    "\n",
    "\n",
    "data.query('cc_num==4044149520758363')"
   ]
  },
  {
   "cell_type": "markdown",
   "id": "e9424f47",
   "metadata": {},
   "source": [
    "**Sharon Rice happen to be the Custumer with the most Transaction..**"
   ]
  },
  {
   "cell_type": "code",
   "execution_count": 21,
   "id": "ac95f67e",
   "metadata": {},
   "outputs": [
    {
     "data": {
      "text/html": [
       "<div>\n",
       "<style scoped>\n",
       "    .dataframe tbody tr th:only-of-type {\n",
       "        vertical-align: middle;\n",
       "    }\n",
       "\n",
       "    .dataframe tbody tr th {\n",
       "        vertical-align: top;\n",
       "    }\n",
       "\n",
       "    .dataframe thead th {\n",
       "        text-align: right;\n",
       "    }\n",
       "</style>\n",
       "<table border=\"1\" class=\"dataframe\">\n",
       "  <thead>\n",
       "    <tr style=\"text-align: right;\">\n",
       "      <th></th>\n",
       "      <th>name</th>\n",
       "      <th>sex</th>\n",
       "      <th>mail</th>\n",
       "      <th>birthdate</th>\n",
       "      <th>City</th>\n",
       "      <th>Country</th>\n",
       "      <th>cc_num</th>\n",
       "      <th>provider</th>\n",
       "      <th>expires</th>\n",
       "      <th>date_added</th>\n",
       "    </tr>\n",
       "  </thead>\n",
       "  <tbody>\n",
       "    <tr>\n",
       "      <th>0</th>\n",
       "      <td>Catherine Zimmerman</td>\n",
       "      <td>F</td>\n",
       "      <td>valenciajason@hotmail.com</td>\n",
       "      <td>1988-09-20</td>\n",
       "      <td>Bryn Mawr-Skyway</td>\n",
       "      <td>US</td>\n",
       "      <td>4796807885357879</td>\n",
       "      <td>visa</td>\n",
       "      <td>05/23</td>\n",
       "      <td>2022-09-01 19:50</td>\n",
       "    </tr>\n",
       "    <tr>\n",
       "      <th>1</th>\n",
       "      <td>Michael Williams</td>\n",
       "      <td>M</td>\n",
       "      <td>brettkennedy@yahoo.com</td>\n",
       "      <td>1977-03-01</td>\n",
       "      <td>Gates-North Gates</td>\n",
       "      <td>US</td>\n",
       "      <td>4529266636192966</td>\n",
       "      <td>visa</td>\n",
       "      <td>03/22</td>\n",
       "      <td>2022-09-01 19:50</td>\n",
       "    </tr>\n",
       "    <tr>\n",
       "      <th>2</th>\n",
       "      <td>Jessica Krueger</td>\n",
       "      <td>F</td>\n",
       "      <td>marthacruz@hotmail.com</td>\n",
       "      <td>1947-09-10</td>\n",
       "      <td>Greenfield</td>\n",
       "      <td>US</td>\n",
       "      <td>4922690008243953</td>\n",
       "      <td>visa</td>\n",
       "      <td>02/27</td>\n",
       "      <td>2022-09-01 19:50</td>\n",
       "    </tr>\n",
       "    <tr>\n",
       "      <th>3</th>\n",
       "      <td>Ruth Harris</td>\n",
       "      <td>F</td>\n",
       "      <td>james11@yahoo.com</td>\n",
       "      <td>1983-12-27</td>\n",
       "      <td>New City</td>\n",
       "      <td>US</td>\n",
       "      <td>4897369589533543</td>\n",
       "      <td>visa</td>\n",
       "      <td>04/22</td>\n",
       "      <td>2022-09-01 19:50</td>\n",
       "    </tr>\n",
       "    <tr>\n",
       "      <th>4</th>\n",
       "      <td>Paul Ashley</td>\n",
       "      <td>M</td>\n",
       "      <td>matthew97@hotmail.com</td>\n",
       "      <td>1974-11-10</td>\n",
       "      <td>Peabody</td>\n",
       "      <td>US</td>\n",
       "      <td>4848518335893425</td>\n",
       "      <td>visa</td>\n",
       "      <td>10/26</td>\n",
       "      <td>2022-09-01 19:50</td>\n",
       "    </tr>\n",
       "  </tbody>\n",
       "</table>\n",
       "</div>"
      ],
      "text/plain": [
       "                  name sex                       mail   birthdate  \\\n",
       "0  Catherine Zimmerman   F  valenciajason@hotmail.com  1988-09-20   \n",
       "1     Michael Williams   M     brettkennedy@yahoo.com  1977-03-01   \n",
       "2      Jessica Krueger   F     marthacruz@hotmail.com  1947-09-10   \n",
       "3          Ruth Harris   F          james11@yahoo.com  1983-12-27   \n",
       "4          Paul Ashley   M      matthew97@hotmail.com  1974-11-10   \n",
       "\n",
       "                City Country            cc_num provider expires  \\\n",
       "0   Bryn Mawr-Skyway      US  4796807885357879     visa   05/23   \n",
       "1  Gates-North Gates      US  4529266636192966     visa   03/22   \n",
       "2         Greenfield      US  4922690008243953     visa   02/27   \n",
       "3           New City      US  4897369589533543     visa   04/22   \n",
       "4            Peabody      US  4848518335893425     visa   10/26   \n",
       "\n",
       "         date_added  \n",
       "0  2022-09-01 19:50  \n",
       "1  2022-09-01 19:50  \n",
       "2  2022-09-01 19:50  \n",
       "3  2022-09-01 19:50  \n",
       "4  2022-09-01 19:50  "
      ]
     },
     "execution_count": 21,
     "metadata": {},
     "output_type": "execute_result"
    }
   ],
   "source": [
    "#let drop the unecessary Columns\n",
    "\n",
    "\n",
    "data=data.drop('Unnamed: 0',axis=1)\n",
    "\n",
    "data.head()"
   ]
  },
  {
   "cell_type": "markdown",
   "id": "b415ac44",
   "metadata": {},
   "source": [
    ">> Let carry EDA on this Tbl"
   ]
  },
  {
   "cell_type": "code",
   "execution_count": 22,
   "id": "f40d4b48",
   "metadata": {},
   "outputs": [],
   "source": [
    "#Geting off The Date columns\n",
    "\n",
    "data[['Add_Date','Added_Time']]=data['date_added'].str.split(' ',expand=True)"
   ]
  },
  {
   "cell_type": "code",
   "execution_count": 23,
   "id": "751ff7ee",
   "metadata": {},
   "outputs": [
    {
     "data": {
      "text/html": [
       "<div>\n",
       "<style scoped>\n",
       "    .dataframe tbody tr th:only-of-type {\n",
       "        vertical-align: middle;\n",
       "    }\n",
       "\n",
       "    .dataframe tbody tr th {\n",
       "        vertical-align: top;\n",
       "    }\n",
       "\n",
       "    .dataframe thead th {\n",
       "        text-align: right;\n",
       "    }\n",
       "</style>\n",
       "<table border=\"1\" class=\"dataframe\">\n",
       "  <thead>\n",
       "    <tr style=\"text-align: right;\">\n",
       "      <th></th>\n",
       "      <th>name</th>\n",
       "      <th>sex</th>\n",
       "      <th>mail</th>\n",
       "      <th>birthdate</th>\n",
       "      <th>City</th>\n",
       "      <th>Country</th>\n",
       "      <th>cc_num</th>\n",
       "      <th>provider</th>\n",
       "      <th>expires</th>\n",
       "      <th>date_added</th>\n",
       "      <th>Add_Date</th>\n",
       "      <th>Added_Time</th>\n",
       "    </tr>\n",
       "  </thead>\n",
       "  <tbody>\n",
       "    <tr>\n",
       "      <th>0</th>\n",
       "      <td>Catherine Zimmerman</td>\n",
       "      <td>F</td>\n",
       "      <td>valenciajason@hotmail.com</td>\n",
       "      <td>1988-09-20</td>\n",
       "      <td>Bryn Mawr-Skyway</td>\n",
       "      <td>US</td>\n",
       "      <td>4796807885357879</td>\n",
       "      <td>visa</td>\n",
       "      <td>05/23</td>\n",
       "      <td>2022-09-01 19:50</td>\n",
       "      <td>2022-09-01</td>\n",
       "      <td>19:50</td>\n",
       "    </tr>\n",
       "    <tr>\n",
       "      <th>1</th>\n",
       "      <td>Michael Williams</td>\n",
       "      <td>M</td>\n",
       "      <td>brettkennedy@yahoo.com</td>\n",
       "      <td>1977-03-01</td>\n",
       "      <td>Gates-North Gates</td>\n",
       "      <td>US</td>\n",
       "      <td>4529266636192966</td>\n",
       "      <td>visa</td>\n",
       "      <td>03/22</td>\n",
       "      <td>2022-09-01 19:50</td>\n",
       "      <td>2022-09-01</td>\n",
       "      <td>19:50</td>\n",
       "    </tr>\n",
       "    <tr>\n",
       "      <th>2</th>\n",
       "      <td>Jessica Krueger</td>\n",
       "      <td>F</td>\n",
       "      <td>marthacruz@hotmail.com</td>\n",
       "      <td>1947-09-10</td>\n",
       "      <td>Greenfield</td>\n",
       "      <td>US</td>\n",
       "      <td>4922690008243953</td>\n",
       "      <td>visa</td>\n",
       "      <td>02/27</td>\n",
       "      <td>2022-09-01 19:50</td>\n",
       "      <td>2022-09-01</td>\n",
       "      <td>19:50</td>\n",
       "    </tr>\n",
       "    <tr>\n",
       "      <th>3</th>\n",
       "      <td>Ruth Harris</td>\n",
       "      <td>F</td>\n",
       "      <td>james11@yahoo.com</td>\n",
       "      <td>1983-12-27</td>\n",
       "      <td>New City</td>\n",
       "      <td>US</td>\n",
       "      <td>4897369589533543</td>\n",
       "      <td>visa</td>\n",
       "      <td>04/22</td>\n",
       "      <td>2022-09-01 19:50</td>\n",
       "      <td>2022-09-01</td>\n",
       "      <td>19:50</td>\n",
       "    </tr>\n",
       "    <tr>\n",
       "      <th>4</th>\n",
       "      <td>Paul Ashley</td>\n",
       "      <td>M</td>\n",
       "      <td>matthew97@hotmail.com</td>\n",
       "      <td>1974-11-10</td>\n",
       "      <td>Peabody</td>\n",
       "      <td>US</td>\n",
       "      <td>4848518335893425</td>\n",
       "      <td>visa</td>\n",
       "      <td>10/26</td>\n",
       "      <td>2022-09-01 19:50</td>\n",
       "      <td>2022-09-01</td>\n",
       "      <td>19:50</td>\n",
       "    </tr>\n",
       "  </tbody>\n",
       "</table>\n",
       "</div>"
      ],
      "text/plain": [
       "                  name sex                       mail   birthdate  \\\n",
       "0  Catherine Zimmerman   F  valenciajason@hotmail.com  1988-09-20   \n",
       "1     Michael Williams   M     brettkennedy@yahoo.com  1977-03-01   \n",
       "2      Jessica Krueger   F     marthacruz@hotmail.com  1947-09-10   \n",
       "3          Ruth Harris   F          james11@yahoo.com  1983-12-27   \n",
       "4          Paul Ashley   M      matthew97@hotmail.com  1974-11-10   \n",
       "\n",
       "                City Country            cc_num provider expires  \\\n",
       "0   Bryn Mawr-Skyway      US  4796807885357879     visa   05/23   \n",
       "1  Gates-North Gates      US  4529266636192966     visa   03/22   \n",
       "2         Greenfield      US  4922690008243953     visa   02/27   \n",
       "3           New City      US  4897369589533543     visa   04/22   \n",
       "4            Peabody      US  4848518335893425     visa   10/26   \n",
       "\n",
       "         date_added    Add_Date Added_Time  \n",
       "0  2022-09-01 19:50  2022-09-01      19:50  \n",
       "1  2022-09-01 19:50  2022-09-01      19:50  \n",
       "2  2022-09-01 19:50  2022-09-01      19:50  \n",
       "3  2022-09-01 19:50  2022-09-01      19:50  \n",
       "4  2022-09-01 19:50  2022-09-01      19:50  "
      ]
     },
     "execution_count": 23,
     "metadata": {},
     "output_type": "execute_result"
    }
   ],
   "source": [
    "data.head()"
   ]
  },
  {
   "cell_type": "code",
   "execution_count": 24,
   "id": "1b4accd0",
   "metadata": {},
   "outputs": [],
   "source": [
    "#Converting the date columsn to date\n",
    "\n",
    "data['Add_Date']=pd.to_datetime(data['Add_Date'])\n",
    "data['birthdate']=pd.to_datetime(data['birthdate'])"
   ]
  },
  {
   "cell_type": "code",
   "execution_count": 25,
   "id": "3f6fe493",
   "metadata": {},
   "outputs": [
    {
     "name": "stdout",
     "output_type": "stream",
     "text": [
      "<class 'pandas.core.frame.DataFrame'>\n",
      "Int64Index: 2000 entries, 0 to 1999\n",
      "Data columns (total 11 columns):\n",
      " #   Column      Non-Null Count  Dtype         \n",
      "---  ------      --------------  -----         \n",
      " 0   name        2000 non-null   object        \n",
      " 1   sex         2000 non-null   object        \n",
      " 2   mail        2000 non-null   object        \n",
      " 3   birthdate   2000 non-null   datetime64[ns]\n",
      " 4   City        2000 non-null   object        \n",
      " 5   Country     2000 non-null   object        \n",
      " 6   cc_num      2000 non-null   int64         \n",
      " 7   provider    2000 non-null   object        \n",
      " 8   expires     2000 non-null   object        \n",
      " 9   date_added  2000 non-null   object        \n",
      " 10  Add_Date    2000 non-null   datetime64[ns]\n",
      "dtypes: datetime64[ns](2), int64(1), object(8)\n",
      "memory usage: 187.5+ KB\n"
     ]
    }
   ],
   "source": [
    "data=data.drop('Added_Time',axis=1)\n",
    "\n",
    "data.info()"
   ]
  },
  {
   "cell_type": "code",
   "execution_count": 26,
   "id": "b878af5b",
   "metadata": {},
   "outputs": [],
   "source": [
    "#Date columns\n",
    "\n",
    "data['expires']=data['expires'].str.replace('/','-',regex=True)"
   ]
  },
  {
   "cell_type": "code",
   "execution_count": 27,
   "id": "1f0159ea",
   "metadata": {},
   "outputs": [],
   "source": [
    "#Convert the Expires columns to Date\n",
    "\n",
    "data['expires']=pd.to_datetime(data['expires'],format='%m-%y')"
   ]
  },
  {
   "cell_type": "code",
   "execution_count": 28,
   "id": "e1fe8698",
   "metadata": {},
   "outputs": [
    {
     "data": {
      "text/html": [
       "<div>\n",
       "<style scoped>\n",
       "    .dataframe tbody tr th:only-of-type {\n",
       "        vertical-align: middle;\n",
       "    }\n",
       "\n",
       "    .dataframe tbody tr th {\n",
       "        vertical-align: top;\n",
       "    }\n",
       "\n",
       "    .dataframe thead th {\n",
       "        text-align: right;\n",
       "    }\n",
       "</style>\n",
       "<table border=\"1\" class=\"dataframe\">\n",
       "  <thead>\n",
       "    <tr style=\"text-align: right;\">\n",
       "      <th></th>\n",
       "      <th>name</th>\n",
       "      <th>sex</th>\n",
       "      <th>mail</th>\n",
       "      <th>birthdate</th>\n",
       "      <th>City</th>\n",
       "      <th>Country</th>\n",
       "      <th>cc_num</th>\n",
       "      <th>provider</th>\n",
       "      <th>expires</th>\n",
       "      <th>Add_Date</th>\n",
       "    </tr>\n",
       "  </thead>\n",
       "  <tbody>\n",
       "    <tr>\n",
       "      <th>0</th>\n",
       "      <td>Catherine Zimmerman</td>\n",
       "      <td>F</td>\n",
       "      <td>valenciajason@hotmail.com</td>\n",
       "      <td>1988-09-20</td>\n",
       "      <td>Bryn Mawr-Skyway</td>\n",
       "      <td>US</td>\n",
       "      <td>4796807885357879</td>\n",
       "      <td>visa</td>\n",
       "      <td>2023-05-01</td>\n",
       "      <td>2022-09-01</td>\n",
       "    </tr>\n",
       "    <tr>\n",
       "      <th>1</th>\n",
       "      <td>Michael Williams</td>\n",
       "      <td>M</td>\n",
       "      <td>brettkennedy@yahoo.com</td>\n",
       "      <td>1977-03-01</td>\n",
       "      <td>Gates-North Gates</td>\n",
       "      <td>US</td>\n",
       "      <td>4529266636192966</td>\n",
       "      <td>visa</td>\n",
       "      <td>2022-03-01</td>\n",
       "      <td>2022-09-01</td>\n",
       "    </tr>\n",
       "    <tr>\n",
       "      <th>2</th>\n",
       "      <td>Jessica Krueger</td>\n",
       "      <td>F</td>\n",
       "      <td>marthacruz@hotmail.com</td>\n",
       "      <td>1947-09-10</td>\n",
       "      <td>Greenfield</td>\n",
       "      <td>US</td>\n",
       "      <td>4922690008243953</td>\n",
       "      <td>visa</td>\n",
       "      <td>2027-02-01</td>\n",
       "      <td>2022-09-01</td>\n",
       "    </tr>\n",
       "    <tr>\n",
       "      <th>3</th>\n",
       "      <td>Ruth Harris</td>\n",
       "      <td>F</td>\n",
       "      <td>james11@yahoo.com</td>\n",
       "      <td>1983-12-27</td>\n",
       "      <td>New City</td>\n",
       "      <td>US</td>\n",
       "      <td>4897369589533543</td>\n",
       "      <td>visa</td>\n",
       "      <td>2022-04-01</td>\n",
       "      <td>2022-09-01</td>\n",
       "    </tr>\n",
       "    <tr>\n",
       "      <th>4</th>\n",
       "      <td>Paul Ashley</td>\n",
       "      <td>M</td>\n",
       "      <td>matthew97@hotmail.com</td>\n",
       "      <td>1974-11-10</td>\n",
       "      <td>Peabody</td>\n",
       "      <td>US</td>\n",
       "      <td>4848518335893425</td>\n",
       "      <td>visa</td>\n",
       "      <td>2026-10-01</td>\n",
       "      <td>2022-09-01</td>\n",
       "    </tr>\n",
       "  </tbody>\n",
       "</table>\n",
       "</div>"
      ],
      "text/plain": [
       "                  name sex                       mail  birthdate  \\\n",
       "0  Catherine Zimmerman   F  valenciajason@hotmail.com 1988-09-20   \n",
       "1     Michael Williams   M     brettkennedy@yahoo.com 1977-03-01   \n",
       "2      Jessica Krueger   F     marthacruz@hotmail.com 1947-09-10   \n",
       "3          Ruth Harris   F          james11@yahoo.com 1983-12-27   \n",
       "4          Paul Ashley   M      matthew97@hotmail.com 1974-11-10   \n",
       "\n",
       "                City Country            cc_num provider    expires   Add_Date  \n",
       "0   Bryn Mawr-Skyway      US  4796807885357879     visa 2023-05-01 2022-09-01  \n",
       "1  Gates-North Gates      US  4529266636192966     visa 2022-03-01 2022-09-01  \n",
       "2         Greenfield      US  4922690008243953     visa 2027-02-01 2022-09-01  \n",
       "3           New City      US  4897369589533543     visa 2022-04-01 2022-09-01  \n",
       "4            Peabody      US  4848518335893425     visa 2026-10-01 2022-09-01  "
      ]
     },
     "execution_count": 28,
     "metadata": {},
     "output_type": "execute_result"
    }
   ],
   "source": [
    "#dropping the unnecessary columns\n",
    "\n",
    "data=data.drop('date_added',axis=1)\n",
    "\n",
    "data.head()"
   ]
  },
  {
   "cell_type": "code",
   "execution_count": 29,
   "id": "cb5dbf89",
   "metadata": {},
   "outputs": [
    {
     "data": {
      "text/plain": [
       "<AxesSubplot:title={'center':'Gender'}, ylabel='sex'>"
      ]
     },
     "execution_count": 29,
     "metadata": {},
     "output_type": "execute_result"
    },
    {
     "data": {
      "image/png": "[encoded data removed]",
      "text/plain": [
       "<Figure size 1200x700 with 1 Axes>"
      ]
     },
     "metadata": {},
     "output_type": "display_data"
    }
   ],
   "source": [
    "#plotting out the Gender \n",
    "\n",
    "data['sex'].value_counts().plot.pie(title='Gender',shadow=True,explode=[0.04,0.04],figsize=(12,7),autopct='%1.1f')"
   ]
  },
  {
   "cell_type": "code",
   "execution_count": 32,
   "id": "d91a753c",
   "metadata": {},
   "outputs": [
    {
     "name": "stdout",
     "output_type": "stream",
     "text": [
      "\u001b[31m Countries \n",
      " US    2000\n",
      "Name: Country, dtype: int64\n"
     ]
    }
   ],
   "source": [
    "#country Uniqness\n",
    "\n",
    "print(Fore.RED,f'Countries \\n',data['Country'].value_counts())"
   ]
  },
  {
   "cell_type": "markdown",
   "id": "6925b1e2",
   "metadata": {},
   "source": [
    "We gat only USA Countris we dealing With."
   ]
  },
  {
   "cell_type": "code",
   "execution_count": 33,
   "id": "b8245d30",
   "metadata": {},
   "outputs": [
    {
     "name": "stdout",
     "output_type": "stream",
     "text": [
      "\u001b[31m Cities in USA: \n",
      "\n",
      " Newburgh          24\n",
      "Estelle           20\n",
      "Ada               19\n",
      "Lino Lakes        18\n",
      "Malden            18\n",
      "                  ..\n",
      "South Whittier     5\n",
      "Nampa              5\n",
      "Bon Air            5\n",
      "Beaumont           4\n",
      "Middle River       3\n",
      "Name: City, Length: 161, dtype: int64\n"
     ]
    }
   ],
   "source": [
    "#couning the City\n",
    "\n",
    "print(Fore.RED,f'Cities in USA: \\n\\n',data['City'].value_counts())"
   ]
  },
  {
   "cell_type": "markdown",
   "id": "db359b94",
   "metadata": {},
   "source": [
    "NEWBURGH CITy,\n",
    "\n",
    "ESTELLE, \n",
    "\n",
    "ADA, \n",
    "\n",
    "LINO \n",
    "\n",
    "LAKES and MALDEN happen to be where majorly our custumer with Visa card came from."
   ]
  },
  {
   "cell_type": "code",
   "execution_count": 30,
   "id": "399e3ea3",
   "metadata": {},
   "outputs": [],
   "source": [
    "#Days remaining to get Expired \n",
    "#if the result gives us Positive value that means the Card i till Active Abut if it give us negative vale That Means\n",
    "#the card As Expires for days.\n",
    "\n",
    "data['Card_days']=data['expires']-data['Add_Date']"
   ]
  },
  {
   "cell_type": "code",
   "execution_count": 36,
   "id": "24f24faf",
   "metadata": {},
   "outputs": [
    {
     "data": {
      "text/html": [
       "<div>\n",
       "<style scoped>\n",
       "    .dataframe tbody tr th:only-of-type {\n",
       "        vertical-align: middle;\n",
       "    }\n",
       "\n",
       "    .dataframe tbody tr th {\n",
       "        vertical-align: top;\n",
       "    }\n",
       "\n",
       "    .dataframe thead th {\n",
       "        text-align: right;\n",
       "    }\n",
       "</style>\n",
       "<table border=\"1\" class=\"dataframe\">\n",
       "  <thead>\n",
       "    <tr style=\"text-align: right;\">\n",
       "      <th></th>\n",
       "      <th>name</th>\n",
       "      <th>sex</th>\n",
       "      <th>mail</th>\n",
       "      <th>birthdate</th>\n",
       "      <th>City</th>\n",
       "      <th>Country</th>\n",
       "      <th>cc_num</th>\n",
       "      <th>provider</th>\n",
       "      <th>expires</th>\n",
       "      <th>Add_Date</th>\n",
       "      <th>Card_days</th>\n",
       "    </tr>\n",
       "  </thead>\n",
       "  <tbody>\n",
       "    <tr>\n",
       "      <th>0</th>\n",
       "      <td>Catherine Zimmerman</td>\n",
       "      <td>F</td>\n",
       "      <td>valenciajason@hotmail.com</td>\n",
       "      <td>1988-09-20</td>\n",
       "      <td>Bryn Mawr-Skyway</td>\n",
       "      <td>US</td>\n",
       "      <td>4796807885357879</td>\n",
       "      <td>visa</td>\n",
       "      <td>2023-05-01</td>\n",
       "      <td>2022-09-01</td>\n",
       "      <td>242 days</td>\n",
       "    </tr>\n",
       "    <tr>\n",
       "      <th>1</th>\n",
       "      <td>Michael Williams</td>\n",
       "      <td>M</td>\n",
       "      <td>brettkennedy@yahoo.com</td>\n",
       "      <td>1977-03-01</td>\n",
       "      <td>Gates-North Gates</td>\n",
       "      <td>US</td>\n",
       "      <td>4529266636192966</td>\n",
       "      <td>visa</td>\n",
       "      <td>2022-03-01</td>\n",
       "      <td>2022-09-01</td>\n",
       "      <td>-184 days</td>\n",
       "    </tr>\n",
       "    <tr>\n",
       "      <th>2</th>\n",
       "      <td>Jessica Krueger</td>\n",
       "      <td>F</td>\n",
       "      <td>marthacruz@hotmail.com</td>\n",
       "      <td>1947-09-10</td>\n",
       "      <td>Greenfield</td>\n",
       "      <td>US</td>\n",
       "      <td>4922690008243953</td>\n",
       "      <td>visa</td>\n",
       "      <td>2027-02-01</td>\n",
       "      <td>2022-09-01</td>\n",
       "      <td>1614 days</td>\n",
       "    </tr>\n",
       "    <tr>\n",
       "      <th>3</th>\n",
       "      <td>Ruth Harris</td>\n",
       "      <td>F</td>\n",
       "      <td>james11@yahoo.com</td>\n",
       "      <td>1983-12-27</td>\n",
       "      <td>New City</td>\n",
       "      <td>US</td>\n",
       "      <td>4897369589533543</td>\n",
       "      <td>visa</td>\n",
       "      <td>2022-04-01</td>\n",
       "      <td>2022-09-01</td>\n",
       "      <td>-153 days</td>\n",
       "    </tr>\n",
       "    <tr>\n",
       "      <th>4</th>\n",
       "      <td>Paul Ashley</td>\n",
       "      <td>M</td>\n",
       "      <td>matthew97@hotmail.com</td>\n",
       "      <td>1974-11-10</td>\n",
       "      <td>Peabody</td>\n",
       "      <td>US</td>\n",
       "      <td>4848518335893425</td>\n",
       "      <td>visa</td>\n",
       "      <td>2026-10-01</td>\n",
       "      <td>2022-09-01</td>\n",
       "      <td>1491 days</td>\n",
       "    </tr>\n",
       "  </tbody>\n",
       "</table>\n",
       "</div>"
      ],
      "text/plain": [
       "                  name sex                       mail  birthdate  \\\n",
       "0  Catherine Zimmerman   F  valenciajason@hotmail.com 1988-09-20   \n",
       "1     Michael Williams   M     brettkennedy@yahoo.com 1977-03-01   \n",
       "2      Jessica Krueger   F     marthacruz@hotmail.com 1947-09-10   \n",
       "3          Ruth Harris   F          james11@yahoo.com 1983-12-27   \n",
       "4          Paul Ashley   M      matthew97@hotmail.com 1974-11-10   \n",
       "\n",
       "                City Country            cc_num provider    expires   Add_Date  \\\n",
       "0   Bryn Mawr-Skyway      US  4796807885357879     visa 2023-05-01 2022-09-01   \n",
       "1  Gates-North Gates      US  4529266636192966     visa 2022-03-01 2022-09-01   \n",
       "2         Greenfield      US  4922690008243953     visa 2027-02-01 2022-09-01   \n",
       "3           New City      US  4897369589533543     visa 2022-04-01 2022-09-01   \n",
       "4            Peabody      US  4848518335893425     visa 2026-10-01 2022-09-01   \n",
       "\n",
       "  Card_days  \n",
       "0  242 days  \n",
       "1 -184 days  \n",
       "2 1614 days  \n",
       "3 -153 days  \n",
       "4 1491 days  "
      ]
     },
     "execution_count": 36,
     "metadata": {},
     "output_type": "execute_result"
    }
   ],
   "source": [
    "data.head()"
   ]
  },
  {
   "cell_type": "code",
   "execution_count": 31,
   "id": "07db7982",
   "metadata": {},
   "outputs": [
    {
     "data": {
      "text/html": [
       "<div>\n",
       "<style scoped>\n",
       "    .dataframe tbody tr th:only-of-type {\n",
       "        vertical-align: middle;\n",
       "    }\n",
       "\n",
       "    .dataframe tbody tr th {\n",
       "        vertical-align: top;\n",
       "    }\n",
       "\n",
       "    .dataframe thead th {\n",
       "        text-align: right;\n",
       "    }\n",
       "</style>\n",
       "<table border=\"1\" class=\"dataframe\">\n",
       "  <thead>\n",
       "    <tr style=\"text-align: right;\">\n",
       "      <th></th>\n",
       "      <th>tid</th>\n",
       "      <th>datetime</th>\n",
       "      <th>cc_num</th>\n",
       "      <th>category</th>\n",
       "      <th>amount</th>\n",
       "      <th>latitude</th>\n",
       "      <th>longitude</th>\n",
       "      <th>city</th>\n",
       "      <th>country</th>\n",
       "      <th>fraud_label</th>\n",
       "    </tr>\n",
       "  </thead>\n",
       "  <tbody>\n",
       "    <tr>\n",
       "      <th>0</th>\n",
       "      <td>11df919988c134d97bbff2678eb68e22</td>\n",
       "      <td>2022-01-01 00:00:24</td>\n",
       "      <td>4473593503484549</td>\n",
       "      <td>Health/Beauty</td>\n",
       "      <td>62.95</td>\n",
       "      <td>42.30865</td>\n",
       "      <td>-83.48216</td>\n",
       "      <td>Canton</td>\n",
       "      <td>US</td>\n",
       "      <td>0</td>\n",
       "    </tr>\n",
       "    <tr>\n",
       "      <th>1</th>\n",
       "      <td>dd0b2d6d4266ccd3bf05bc2ea91cf180</td>\n",
       "      <td>2022-01-01 00:00:56</td>\n",
       "      <td>4272465718946864</td>\n",
       "      <td>Grocery</td>\n",
       "      <td>85.45</td>\n",
       "      <td>33.52253</td>\n",
       "      <td>-117.70755</td>\n",
       "      <td>Laguna Niguel</td>\n",
       "      <td>US</td>\n",
       "      <td>0</td>\n",
       "    </tr>\n",
       "    <tr>\n",
       "      <th>2</th>\n",
       "      <td>e627f5d9a9739833bd52d2da51761fc3</td>\n",
       "      <td>2022-01-01 00:02:32</td>\n",
       "      <td>4104216579248948</td>\n",
       "      <td>Domestic Transport</td>\n",
       "      <td>21.63</td>\n",
       "      <td>37.60876</td>\n",
       "      <td>-77.37331</td>\n",
       "      <td>Mechanicsville</td>\n",
       "      <td>US</td>\n",
       "      <td>0</td>\n",
       "    </tr>\n",
       "    <tr>\n",
       "      <th>3</th>\n",
       "      <td>6fb3e6beafbb92b8e15827037f603c52</td>\n",
       "      <td>2022-01-01 00:03:24</td>\n",
       "      <td>4814447237003448</td>\n",
       "      <td>Health/Beauty</td>\n",
       "      <td>54.71</td>\n",
       "      <td>43.54072</td>\n",
       "      <td>-116.56346</td>\n",
       "      <td>Nampa</td>\n",
       "      <td>US</td>\n",
       "      <td>0</td>\n",
       "    </tr>\n",
       "    <tr>\n",
       "      <th>4</th>\n",
       "      <td>be0b8acc57bfe126a5a392fd99e6ddd1</td>\n",
       "      <td>2022-01-01 00:03:55</td>\n",
       "      <td>4515188652242507</td>\n",
       "      <td>Grocery</td>\n",
       "      <td>59.22</td>\n",
       "      <td>40.24537</td>\n",
       "      <td>-75.64963</td>\n",
       "      <td>Pottstown</td>\n",
       "      <td>US</td>\n",
       "      <td>0</td>\n",
       "    </tr>\n",
       "  </tbody>\n",
       "</table>\n",
       "</div>"
      ],
      "text/plain": [
       "                                tid             datetime            cc_num  \\\n",
       "0  11df919988c134d97bbff2678eb68e22  2022-01-01 00:00:24  4473593503484549   \n",
       "1  dd0b2d6d4266ccd3bf05bc2ea91cf180  2022-01-01 00:00:56  4272465718946864   \n",
       "2  e627f5d9a9739833bd52d2da51761fc3  2022-01-01 00:02:32  4104216579248948   \n",
       "3  6fb3e6beafbb92b8e15827037f603c52  2022-01-01 00:03:24  4814447237003448   \n",
       "4  be0b8acc57bfe126a5a392fd99e6ddd1  2022-01-01 00:03:55  4515188652242507   \n",
       "\n",
       "             category  amount  latitude  longitude            city country  \\\n",
       "0       Health/Beauty   62.95  42.30865  -83.48216          Canton      US   \n",
       "1             Grocery   85.45  33.52253 -117.70755   Laguna Niguel      US   \n",
       "2  Domestic Transport   21.63  37.60876  -77.37331  Mechanicsville      US   \n",
       "3       Health/Beauty   54.71  43.54072 -116.56346           Nampa      US   \n",
       "4             Grocery   59.22  40.24537  -75.64963       Pottstown      US   \n",
       "\n",
       "   fraud_label  \n",
       "0            0  \n",
       "1            0  \n",
       "2            0  \n",
       "3            0  \n",
       "4            0  "
      ]
     },
     "execution_count": 31,
     "metadata": {},
     "output_type": "execute_result"
    }
   ],
   "source": [
    "tran_df.head()"
   ]
  },
  {
   "cell_type": "code",
   "execution_count": 33,
   "id": "db837ab3",
   "metadata": {},
   "outputs": [
    {
     "data": {
      "text/plain": [
       "numpy.int64"
      ]
     },
     "execution_count": 33,
     "metadata": {},
     "output_type": "execute_result"
    }
   ],
   "source": [
    "#Checking the data type of the cc-Num \n",
    "\n",
    "type(tran_df['cc_num'][0])"
   ]
  },
  {
   "cell_type": "code",
   "execution_count": 34,
   "id": "e181c326",
   "metadata": {},
   "outputs": [
    {
     "data": {
      "text/plain": [
       "Cash Withdrawal         52020\n",
       "Grocery                 27060\n",
       "Restaurant/Cafeteria    10773\n",
       "Health/Beauty            5393\n",
       "Domestic Transport       5389\n",
       "Clothing                 2693\n",
       "Electronics              1076\n",
       "Sports/Outdoors           808\n",
       "Holliday/Travel           754\n",
       "Jewelery                   54\n",
       "Name: category, dtype: int64"
      ]
     },
     "execution_count": 34,
     "metadata": {},
     "output_type": "execute_result"
    }
   ],
   "source": [
    "#counting the cc_num\n",
    "\n",
    "tran_df['category'].value_counts()"
   ]
  },
  {
   "cell_type": "code",
   "execution_count": 35,
   "id": "8e8f82fe",
   "metadata": {},
   "outputs": [
    {
     "data": {
      "text/plain": [
       "Sterling                787\n",
       "Dumont                  773\n",
       "Utica                   770\n",
       "Kendall                 769\n",
       "Riverbank               759\n",
       "                       ... \n",
       "Tak Bai                   1\n",
       "Roseto degli Abruzzi      1\n",
       "Bibiani                   1\n",
       "Saharsa                   1\n",
       "Edremit                   1\n",
       "Name: city, Length: 180, dtype: int64"
      ]
     },
     "execution_count": 35,
     "metadata": {},
     "output_type": "execute_result"
    }
   ],
   "source": [
    "#including the City\n",
    "\n",
    "tran_df['city'].value_counts()"
   ]
  },
  {
   "cell_type": "code",
   "execution_count": 36,
   "id": "60c30b07",
   "metadata": {},
   "outputs": [
    {
     "data": {
      "text/html": [
       "<div>\n",
       "<style scoped>\n",
       "    .dataframe tbody tr th:only-of-type {\n",
       "        vertical-align: middle;\n",
       "    }\n",
       "\n",
       "    .dataframe tbody tr th {\n",
       "        vertical-align: top;\n",
       "    }\n",
       "\n",
       "    .dataframe thead th {\n",
       "        text-align: right;\n",
       "    }\n",
       "</style>\n",
       "<table border=\"1\" class=\"dataframe\">\n",
       "  <thead>\n",
       "    <tr style=\"text-align: right;\">\n",
       "      <th></th>\n",
       "      <th>amount</th>\n",
       "    </tr>\n",
       "    <tr>\n",
       "      <th>cc_num</th>\n",
       "      <th></th>\n",
       "    </tr>\n",
       "  </thead>\n",
       "  <tbody>\n",
       "    <tr>\n",
       "      <th>4117492142704098</th>\n",
       "      <td>90477.97</td>\n",
       "    </tr>\n",
       "    <tr>\n",
       "      <th>4484294868115938</th>\n",
       "      <td>89368.90</td>\n",
       "    </tr>\n",
       "    <tr>\n",
       "      <th>4510501167899998</th>\n",
       "      <td>89135.25</td>\n",
       "    </tr>\n",
       "    <tr>\n",
       "      <th>4384712663287264</th>\n",
       "      <td>87368.49</td>\n",
       "    </tr>\n",
       "    <tr>\n",
       "      <th>4637647896048205</th>\n",
       "      <td>84527.38</td>\n",
       "    </tr>\n",
       "    <tr>\n",
       "      <th>...</th>\n",
       "      <td>...</td>\n",
       "    </tr>\n",
       "    <tr>\n",
       "      <th>4926057769846455</th>\n",
       "      <td>609.84</td>\n",
       "    </tr>\n",
       "    <tr>\n",
       "      <th>4003799536246115</th>\n",
       "      <td>581.92</td>\n",
       "    </tr>\n",
       "    <tr>\n",
       "      <th>4820562401698567</th>\n",
       "      <td>539.01</td>\n",
       "    </tr>\n",
       "    <tr>\n",
       "      <th>4152074228454891</th>\n",
       "      <td>532.56</td>\n",
       "    </tr>\n",
       "    <tr>\n",
       "      <th>4437719279871164</th>\n",
       "      <td>479.78</td>\n",
       "    </tr>\n",
       "  </tbody>\n",
       "</table>\n",
       "<p>2000 rows × 1 columns</p>\n",
       "</div>"
      ],
      "text/plain": [
       "                    amount\n",
       "cc_num                    \n",
       "4117492142704098  90477.97\n",
       "4484294868115938  89368.90\n",
       "4510501167899998  89135.25\n",
       "4384712663287264  87368.49\n",
       "4637647896048205  84527.38\n",
       "...                    ...\n",
       "4926057769846455    609.84\n",
       "4003799536246115    581.92\n",
       "4820562401698567    539.01\n",
       "4152074228454891    532.56\n",
       "4437719279871164    479.78\n",
       "\n",
       "[2000 rows x 1 columns]"
      ]
     },
     "execution_count": 36,
     "metadata": {},
     "output_type": "execute_result"
    }
   ],
   "source": [
    "#Cheking the for individual who ave spent more Money in total\n",
    "\n",
    "tran_df[['cc_num','amount']].groupby('cc_num').sum().sort_values(by=['amount'],ascending=False)"
   ]
  },
  {
   "cell_type": "code",
   "execution_count": 37,
   "id": "bd73b79e",
   "metadata": {},
   "outputs": [
    {
     "data": {
      "text/html": [
       "<div>\n",
       "<style scoped>\n",
       "    .dataframe tbody tr th:only-of-type {\n",
       "        vertical-align: middle;\n",
       "    }\n",
       "\n",
       "    .dataframe tbody tr th {\n",
       "        vertical-align: top;\n",
       "    }\n",
       "\n",
       "    .dataframe thead th {\n",
       "        text-align: right;\n",
       "    }\n",
       "</style>\n",
       "<table border=\"1\" class=\"dataframe\">\n",
       "  <thead>\n",
       "    <tr style=\"text-align: right;\">\n",
       "      <th></th>\n",
       "      <th>name</th>\n",
       "      <th>sex</th>\n",
       "      <th>mail</th>\n",
       "      <th>birthdate</th>\n",
       "      <th>City</th>\n",
       "      <th>Country</th>\n",
       "      <th>cc_num</th>\n",
       "      <th>provider</th>\n",
       "      <th>expires</th>\n",
       "      <th>Add_Date</th>\n",
       "      <th>Card_days</th>\n",
       "    </tr>\n",
       "  </thead>\n",
       "  <tbody>\n",
       "    <tr>\n",
       "      <th>1850</th>\n",
       "      <td>David Woodard</td>\n",
       "      <td>M</td>\n",
       "      <td>jonathan38@hotmail.com</td>\n",
       "      <td>2000-01-27</td>\n",
       "      <td>Rutland</td>\n",
       "      <td>US</td>\n",
       "      <td>4117492142704098</td>\n",
       "      <td>visa</td>\n",
       "      <td>2022-01-01</td>\n",
       "      <td>2022-09-01</td>\n",
       "      <td>-243 days</td>\n",
       "    </tr>\n",
       "  </tbody>\n",
       "</table>\n",
       "</div>"
      ],
      "text/plain": [
       "               name sex                    mail  birthdate     City Country  \\\n",
       "1850  David Woodard   M  jonathan38@hotmail.com 2000-01-27  Rutland      US   \n",
       "\n",
       "                cc_num provider    expires   Add_Date Card_days  \n",
       "1850  4117492142704098     visa 2022-01-01 2022-09-01 -243 days  "
      ]
     },
     "execution_count": 37,
     "metadata": {},
     "output_type": "execute_result"
    }
   ],
   "source": [
    "#Tracking The Individual by Is cc_num\n",
    "\n",
    "data.query('cc_num==4117492142704098')"
   ]
  },
  {
   "cell_type": "markdown",
   "id": "89242ddd",
   "metadata": {},
   "source": [
    "**while David Woodard Is the Most custumer with the highest spending**"
   ]
  },
  {
   "cell_type": "code",
   "execution_count": 40,
   "id": "50bc9613",
   "metadata": {},
   "outputs": [
    {
     "data": {
      "text/html": [
       "<div>\n",
       "<style scoped>\n",
       "    .dataframe tbody tr th:only-of-type {\n",
       "        vertical-align: middle;\n",
       "    }\n",
       "\n",
       "    .dataframe tbody tr th {\n",
       "        vertical-align: top;\n",
       "    }\n",
       "\n",
       "    .dataframe thead th {\n",
       "        text-align: right;\n",
       "    }\n",
       "</style>\n",
       "<table border=\"1\" class=\"dataframe\">\n",
       "  <thead>\n",
       "    <tr style=\"text-align: right;\">\n",
       "      <th></th>\n",
       "      <th>tid</th>\n",
       "      <th>datetime</th>\n",
       "      <th>cc_num</th>\n",
       "      <th>category</th>\n",
       "      <th>amount</th>\n",
       "      <th>latitude</th>\n",
       "      <th>longitude</th>\n",
       "      <th>city</th>\n",
       "      <th>country</th>\n",
       "      <th>fraud_label</th>\n",
       "    </tr>\n",
       "  </thead>\n",
       "  <tbody>\n",
       "    <tr>\n",
       "      <th>1289</th>\n",
       "      <td>36bd45dfad43467d200484f8e689a183</td>\n",
       "      <td>2022-01-02 09:53:36</td>\n",
       "      <td>4117492142704098</td>\n",
       "      <td>Restaurant/Cafeteria</td>\n",
       "      <td>62.95</td>\n",
       "      <td>32.525150</td>\n",
       "      <td>-93.750180</td>\n",
       "      <td>Shreveport</td>\n",
       "      <td>US</td>\n",
       "      <td>0</td>\n",
       "    </tr>\n",
       "    <tr>\n",
       "      <th>2823</th>\n",
       "      <td>418bbc0261910280f0d0d60da6ea2a3d</td>\n",
       "      <td>2022-01-04 02:04:39</td>\n",
       "      <td>4117492142704098</td>\n",
       "      <td>Restaurant/Cafeteria</td>\n",
       "      <td>54.80</td>\n",
       "      <td>42.553080</td>\n",
       "      <td>-87.933410</td>\n",
       "      <td>Pleasant Prairie</td>\n",
       "      <td>US</td>\n",
       "      <td>0</td>\n",
       "    </tr>\n",
       "    <tr>\n",
       "      <th>3406</th>\n",
       "      <td>6192eedc4ddc2b078f78f4035c1ac2af</td>\n",
       "      <td>2022-01-04 17:13:01</td>\n",
       "      <td>4117492142704098</td>\n",
       "      <td>Restaurant/Cafeteria</td>\n",
       "      <td>27.99</td>\n",
       "      <td>42.308650</td>\n",
       "      <td>-83.482160</td>\n",
       "      <td>Canton</td>\n",
       "      <td>US</td>\n",
       "      <td>0</td>\n",
       "    </tr>\n",
       "    <tr>\n",
       "      <th>4081</th>\n",
       "      <td>1fbbf904c32de8e83309e1921009b08d</td>\n",
       "      <td>2022-01-05 10:07:48</td>\n",
       "      <td>4117492142704098</td>\n",
       "      <td>Grocery</td>\n",
       "      <td>36.04</td>\n",
       "      <td>34.142510</td>\n",
       "      <td>-118.255080</td>\n",
       "      <td>Glendale</td>\n",
       "      <td>US</td>\n",
       "      <td>0</td>\n",
       "    </tr>\n",
       "    <tr>\n",
       "      <th>5609</th>\n",
       "      <td>d446af67a658e50e0d4b4324214ab788</td>\n",
       "      <td>2022-01-07 02:42:48</td>\n",
       "      <td>4117492142704098</td>\n",
       "      <td>Grocery</td>\n",
       "      <td>3.68</td>\n",
       "      <td>41.900100</td>\n",
       "      <td>-71.089770</td>\n",
       "      <td>Taunton</td>\n",
       "      <td>US</td>\n",
       "      <td>0</td>\n",
       "    </tr>\n",
       "    <tr>\n",
       "      <th>...</th>\n",
       "      <td>...</td>\n",
       "      <td>...</td>\n",
       "      <td>...</td>\n",
       "      <td>...</td>\n",
       "      <td>...</td>\n",
       "      <td>...</td>\n",
       "      <td>...</td>\n",
       "      <td>...</td>\n",
       "      <td>...</td>\n",
       "      <td>...</td>\n",
       "    </tr>\n",
       "    <tr>\n",
       "      <th>95873</th>\n",
       "      <td>72d3000c2792e5d57adf2c5d14f1a06f</td>\n",
       "      <td>2022-02-06 12:03:39</td>\n",
       "      <td>4117492142704098</td>\n",
       "      <td>Cash Withdrawal</td>\n",
       "      <td>1.52</td>\n",
       "      <td>40.662933</td>\n",
       "      <td>-74.400939</td>\n",
       "      <td>Scotch Plains</td>\n",
       "      <td>US</td>\n",
       "      <td>0</td>\n",
       "    </tr>\n",
       "    <tr>\n",
       "      <th>95874</th>\n",
       "      <td>bb8fb4c660edd621358c54eb416dbf41</td>\n",
       "      <td>2022-02-07 00:03:39</td>\n",
       "      <td>4117492142704098</td>\n",
       "      <td>Cash Withdrawal</td>\n",
       "      <td>81.03</td>\n",
       "      <td>40.666800</td>\n",
       "      <td>-74.405747</td>\n",
       "      <td>Scotch Plains</td>\n",
       "      <td>US</td>\n",
       "      <td>0</td>\n",
       "    </tr>\n",
       "    <tr>\n",
       "      <th>95875</th>\n",
       "      <td>9fbc7d5f016bbe2525967a08e81fe92f</td>\n",
       "      <td>2022-02-07 12:03:39</td>\n",
       "      <td>4117492142704098</td>\n",
       "      <td>Cash Withdrawal</td>\n",
       "      <td>672.82</td>\n",
       "      <td>40.663508</td>\n",
       "      <td>-74.406606</td>\n",
       "      <td>Scotch Plains</td>\n",
       "      <td>US</td>\n",
       "      <td>0</td>\n",
       "    </tr>\n",
       "    <tr>\n",
       "      <th>95876</th>\n",
       "      <td>51fea9c24f52f11b61c498c74e557a1b</td>\n",
       "      <td>2022-02-08 00:03:39</td>\n",
       "      <td>4117492142704098</td>\n",
       "      <td>Cash Withdrawal</td>\n",
       "      <td>85.39</td>\n",
       "      <td>40.658661</td>\n",
       "      <td>-74.412825</td>\n",
       "      <td>Scotch Plains</td>\n",
       "      <td>US</td>\n",
       "      <td>0</td>\n",
       "    </tr>\n",
       "    <tr>\n",
       "      <th>95877</th>\n",
       "      <td>56113abe4419510543d4554d609a5ef7</td>\n",
       "      <td>2022-02-08 12:03:39</td>\n",
       "      <td>4117492142704098</td>\n",
       "      <td>Cash Withdrawal</td>\n",
       "      <td>8355.52</td>\n",
       "      <td>40.663738</td>\n",
       "      <td>-74.416124</td>\n",
       "      <td>Scotch Plains</td>\n",
       "      <td>US</td>\n",
       "      <td>0</td>\n",
       "    </tr>\n",
       "  </tbody>\n",
       "</table>\n",
       "<p>81 rows × 10 columns</p>\n",
       "</div>"
      ],
      "text/plain": [
       "                                    tid             datetime  \\\n",
       "1289   36bd45dfad43467d200484f8e689a183  2022-01-02 09:53:36   \n",
       "2823   418bbc0261910280f0d0d60da6ea2a3d  2022-01-04 02:04:39   \n",
       "3406   6192eedc4ddc2b078f78f4035c1ac2af  2022-01-04 17:13:01   \n",
       "4081   1fbbf904c32de8e83309e1921009b08d  2022-01-05 10:07:48   \n",
       "5609   d446af67a658e50e0d4b4324214ab788  2022-01-07 02:42:48   \n",
       "...                                 ...                  ...   \n",
       "95873  72d3000c2792e5d57adf2c5d14f1a06f  2022-02-06 12:03:39   \n",
       "95874  bb8fb4c660edd621358c54eb416dbf41  2022-02-07 00:03:39   \n",
       "95875  9fbc7d5f016bbe2525967a08e81fe92f  2022-02-07 12:03:39   \n",
       "95876  51fea9c24f52f11b61c498c74e557a1b  2022-02-08 00:03:39   \n",
       "95877  56113abe4419510543d4554d609a5ef7  2022-02-08 12:03:39   \n",
       "\n",
       "                 cc_num              category   amount   latitude   longitude  \\\n",
       "1289   4117492142704098  Restaurant/Cafeteria    62.95  32.525150  -93.750180   \n",
       "2823   4117492142704098  Restaurant/Cafeteria    54.80  42.553080  -87.933410   \n",
       "3406   4117492142704098  Restaurant/Cafeteria    27.99  42.308650  -83.482160   \n",
       "4081   4117492142704098               Grocery    36.04  34.142510 -118.255080   \n",
       "5609   4117492142704098               Grocery     3.68  41.900100  -71.089770   \n",
       "...                 ...                   ...      ...        ...         ...   \n",
       "95873  4117492142704098       Cash Withdrawal     1.52  40.662933  -74.400939   \n",
       "95874  4117492142704098       Cash Withdrawal    81.03  40.666800  -74.405747   \n",
       "95875  4117492142704098       Cash Withdrawal   672.82  40.663508  -74.406606   \n",
       "95876  4117492142704098       Cash Withdrawal    85.39  40.658661  -74.412825   \n",
       "95877  4117492142704098       Cash Withdrawal  8355.52  40.663738  -74.416124   \n",
       "\n",
       "                   city country  fraud_label  \n",
       "1289         Shreveport      US            0  \n",
       "2823   Pleasant Prairie      US            0  \n",
       "3406             Canton      US            0  \n",
       "4081           Glendale      US            0  \n",
       "5609            Taunton      US            0  \n",
       "...                 ...     ...          ...  \n",
       "95873     Scotch Plains      US            0  \n",
       "95874     Scotch Plains      US            0  \n",
       "95875     Scotch Plains      US            0  \n",
       "95876     Scotch Plains      US            0  \n",
       "95877     Scotch Plains      US            0  \n",
       "\n",
       "[81 rows x 10 columns]"
      ]
     },
     "execution_count": 40,
     "metadata": {},
     "output_type": "execute_result"
    }
   ],
   "source": [
    "#let check for the Label he belong to\n",
    "\n",
    "tran_df.query('cc_num==4117492142704098')"
   ]
  },
  {
   "cell_type": "markdown",
   "id": "a17c7f51",
   "metadata": {},
   "source": [
    "ALL of is trasaction has Been Legit"
   ]
  },
  {
   "cell_type": "code",
   "execution_count": 41,
   "id": "1f3549f2",
   "metadata": {},
   "outputs": [
    {
     "name": "stdout",
     "output_type": "stream",
     "text": [
      "<class 'pandas.core.frame.DataFrame'>\n",
      "RangeIndex: 106020 entries, 0 to 106019\n",
      "Data columns (total 10 columns):\n",
      " #   Column       Non-Null Count   Dtype  \n",
      "---  ------       --------------   -----  \n",
      " 0   tid          106020 non-null  object \n",
      " 1   datetime     106020 non-null  object \n",
      " 2   cc_num       106020 non-null  int64  \n",
      " 3   category     106020 non-null  object \n",
      " 4   amount       106020 non-null  float64\n",
      " 5   latitude     106020 non-null  float64\n",
      " 6   longitude    106020 non-null  float64\n",
      " 7   city         106020 non-null  object \n",
      " 8   country      106020 non-null  object \n",
      " 9   fraud_label  106020 non-null  int64  \n",
      "dtypes: float64(3), int64(2), object(5)\n",
      "memory usage: 8.1+ MB\n"
     ]
    }
   ],
   "source": [
    "tran_df.info()"
   ]
  },
  {
   "cell_type": "code",
   "execution_count": 42,
   "id": "3d64b7da",
   "metadata": {},
   "outputs": [
    {
     "data": {
      "text/html": [
       "<div>\n",
       "<style scoped>\n",
       "    .dataframe tbody tr th:only-of-type {\n",
       "        vertical-align: middle;\n",
       "    }\n",
       "\n",
       "    .dataframe tbody tr th {\n",
       "        vertical-align: top;\n",
       "    }\n",
       "\n",
       "    .dataframe thead th {\n",
       "        text-align: right;\n",
       "    }\n",
       "</style>\n",
       "<table border=\"1\" class=\"dataframe\">\n",
       "  <thead>\n",
       "    <tr style=\"text-align: right;\">\n",
       "      <th></th>\n",
       "      <th>3482</th>\n",
       "      <th>59678</th>\n",
       "    </tr>\n",
       "  </thead>\n",
       "  <tbody>\n",
       "    <tr>\n",
       "      <th>tid</th>\n",
       "      <td>48e429e54b91277bcc5ff088b2bbd26a</td>\n",
       "      <td>8a2b5e0e7eb6f7e88f348458be390cef</td>\n",
       "    </tr>\n",
       "    <tr>\n",
       "      <th>datetime</th>\n",
       "      <td>2022-01-04 19:05:06</td>\n",
       "      <td>2022-03-02 06:16:02</td>\n",
       "    </tr>\n",
       "    <tr>\n",
       "      <th>cc_num</th>\n",
       "      <td>4365058785894121</td>\n",
       "      <td>4198854676954195</td>\n",
       "    </tr>\n",
       "    <tr>\n",
       "      <th>category</th>\n",
       "      <td>Grocery</td>\n",
       "      <td>Cash Withdrawal</td>\n",
       "    </tr>\n",
       "    <tr>\n",
       "      <th>amount</th>\n",
       "      <td>0.01</td>\n",
       "      <td>29968.32</td>\n",
       "    </tr>\n",
       "    <tr>\n",
       "      <th>latitude</th>\n",
       "      <td>37.73604</td>\n",
       "      <td>31.117535</td>\n",
       "    </tr>\n",
       "    <tr>\n",
       "      <th>longitude</th>\n",
       "      <td>-120.93549</td>\n",
       "      <td>-97.905708</td>\n",
       "    </tr>\n",
       "    <tr>\n",
       "      <th>city</th>\n",
       "      <td>Riverbank</td>\n",
       "      <td>Copperas Cove</td>\n",
       "    </tr>\n",
       "    <tr>\n",
       "      <th>country</th>\n",
       "      <td>US</td>\n",
       "      <td>US</td>\n",
       "    </tr>\n",
       "    <tr>\n",
       "      <th>fraud_label</th>\n",
       "      <td>0</td>\n",
       "      <td>0</td>\n",
       "    </tr>\n",
       "  </tbody>\n",
       "</table>\n",
       "</div>"
      ],
      "text/plain": [
       "                                        3482   \\\n",
       "tid          48e429e54b91277bcc5ff088b2bbd26a   \n",
       "datetime                  2022-01-04 19:05:06   \n",
       "cc_num                       4365058785894121   \n",
       "category                              Grocery   \n",
       "amount                                   0.01   \n",
       "latitude                             37.73604   \n",
       "longitude                          -120.93549   \n",
       "city                                Riverbank   \n",
       "country                                    US   \n",
       "fraud_label                                 0   \n",
       "\n",
       "                                        59678  \n",
       "tid          8a2b5e0e7eb6f7e88f348458be390cef  \n",
       "datetime                  2022-03-02 06:16:02  \n",
       "cc_num                       4198854676954195  \n",
       "category                      Cash Withdrawal  \n",
       "amount                               29968.32  \n",
       "latitude                            31.117535  \n",
       "longitude                          -97.905708  \n",
       "city                            Copperas Cove  \n",
       "country                                    US  \n",
       "fraud_label                                 0  "
      ]
     },
     "execution_count": 42,
     "metadata": {},
     "output_type": "execute_result"
    }
   ],
   "source": [
    "#let for the maximum and minimum at one Transaction\n",
    "\n",
    "def maxmin(X):\n",
    "    mini=tran_df[X].idxmin()\n",
    "    maxi=tran_df[X].idxmax()\n",
    "    fmini=pd.DataFrame(tran_df.loc[mini,:])\n",
    "    fmaxi=pd.DataFrame(tran_df.loc[maxi,:])\n",
    "    return pd.concat([fmini,fmaxi],axis=1)\n",
    "\n",
    "\n",
    "maxmin('amount')"
   ]
  },
  {
   "cell_type": "code",
   "execution_count": 43,
   "id": "41278ae3",
   "metadata": {},
   "outputs": [
    {
     "data": {
      "text/html": [
       "<div>\n",
       "<style scoped>\n",
       "    .dataframe tbody tr th:only-of-type {\n",
       "        vertical-align: middle;\n",
       "    }\n",
       "\n",
       "    .dataframe tbody tr th {\n",
       "        vertical-align: top;\n",
       "    }\n",
       "\n",
       "    .dataframe thead th {\n",
       "        text-align: right;\n",
       "    }\n",
       "</style>\n",
       "<table border=\"1\" class=\"dataframe\">\n",
       "  <thead>\n",
       "    <tr style=\"text-align: right;\">\n",
       "      <th></th>\n",
       "      <th>name</th>\n",
       "      <th>sex</th>\n",
       "      <th>mail</th>\n",
       "      <th>birthdate</th>\n",
       "      <th>City</th>\n",
       "      <th>Country</th>\n",
       "      <th>cc_num</th>\n",
       "      <th>provider</th>\n",
       "      <th>expires</th>\n",
       "      <th>Add_Date</th>\n",
       "      <th>Card_days</th>\n",
       "    </tr>\n",
       "  </thead>\n",
       "  <tbody>\n",
       "    <tr>\n",
       "      <th>1064</th>\n",
       "      <td>Jacqueline Scott</td>\n",
       "      <td>F</td>\n",
       "      <td>ypowell@gmail.com</td>\n",
       "      <td>1967-02-28</td>\n",
       "      <td>San Juan</td>\n",
       "      <td>US</td>\n",
       "      <td>4198854676954195</td>\n",
       "      <td>visa</td>\n",
       "      <td>2024-11-01</td>\n",
       "      <td>2022-09-01</td>\n",
       "      <td>792 days</td>\n",
       "    </tr>\n",
       "  </tbody>\n",
       "</table>\n",
       "</div>"
      ],
      "text/plain": [
       "                  name sex               mail  birthdate      City Country  \\\n",
       "1064  Jacqueline Scott   F  ypowell@gmail.com 1967-02-28  San Juan      US   \n",
       "\n",
       "                cc_num provider    expires   Add_Date Card_days  \n",
       "1064  4198854676954195     visa 2024-11-01 2022-09-01  792 days  "
      ]
     },
     "execution_count": 43,
     "metadata": {},
     "output_type": "execute_result"
    }
   ],
   "source": [
    "#let check by who\n",
    "\n",
    "data.query('cc_num==4198854676954195')"
   ]
  },
  {
   "cell_type": "markdown",
   "id": "283dcf08",
   "metadata": {},
   "source": [
    "*The higest money transaction done by individual is 29968.32 by Jacqueline Scott*"
   ]
  },
  {
   "cell_type": "code",
   "execution_count": 44,
   "id": "52d38374",
   "metadata": {},
   "outputs": [
    {
     "data": {
      "text/html": [
       "<div>\n",
       "<style scoped>\n",
       "    .dataframe tbody tr th:only-of-type {\n",
       "        vertical-align: middle;\n",
       "    }\n",
       "\n",
       "    .dataframe tbody tr th {\n",
       "        vertical-align: top;\n",
       "    }\n",
       "\n",
       "    .dataframe thead th {\n",
       "        text-align: right;\n",
       "    }\n",
       "</style>\n",
       "<table border=\"1\" class=\"dataframe\">\n",
       "  <thead>\n",
       "    <tr style=\"text-align: right;\">\n",
       "      <th></th>\n",
       "      <th>tid</th>\n",
       "      <th>datetime</th>\n",
       "      <th>cc_num</th>\n",
       "      <th>category</th>\n",
       "      <th>amount</th>\n",
       "      <th>latitude</th>\n",
       "      <th>longitude</th>\n",
       "      <th>city</th>\n",
       "      <th>country</th>\n",
       "      <th>fraud_label</th>\n",
       "    </tr>\n",
       "  </thead>\n",
       "  <tbody>\n",
       "    <tr>\n",
       "      <th>0</th>\n",
       "      <td>11df919988c134d97bbff2678eb68e22</td>\n",
       "      <td>2022-01-01 00:00:24</td>\n",
       "      <td>4473593503484549</td>\n",
       "      <td>Health/Beauty</td>\n",
       "      <td>62.95</td>\n",
       "      <td>42.30865</td>\n",
       "      <td>-83.48216</td>\n",
       "      <td>Canton</td>\n",
       "      <td>US</td>\n",
       "      <td>0</td>\n",
       "    </tr>\n",
       "    <tr>\n",
       "      <th>1</th>\n",
       "      <td>dd0b2d6d4266ccd3bf05bc2ea91cf180</td>\n",
       "      <td>2022-01-01 00:00:56</td>\n",
       "      <td>4272465718946864</td>\n",
       "      <td>Grocery</td>\n",
       "      <td>85.45</td>\n",
       "      <td>33.52253</td>\n",
       "      <td>-117.70755</td>\n",
       "      <td>Laguna Niguel</td>\n",
       "      <td>US</td>\n",
       "      <td>0</td>\n",
       "    </tr>\n",
       "    <tr>\n",
       "      <th>2</th>\n",
       "      <td>e627f5d9a9739833bd52d2da51761fc3</td>\n",
       "      <td>2022-01-01 00:02:32</td>\n",
       "      <td>4104216579248948</td>\n",
       "      <td>Domestic Transport</td>\n",
       "      <td>21.63</td>\n",
       "      <td>37.60876</td>\n",
       "      <td>-77.37331</td>\n",
       "      <td>Mechanicsville</td>\n",
       "      <td>US</td>\n",
       "      <td>0</td>\n",
       "    </tr>\n",
       "    <tr>\n",
       "      <th>3</th>\n",
       "      <td>6fb3e6beafbb92b8e15827037f603c52</td>\n",
       "      <td>2022-01-01 00:03:24</td>\n",
       "      <td>4814447237003448</td>\n",
       "      <td>Health/Beauty</td>\n",
       "      <td>54.71</td>\n",
       "      <td>43.54072</td>\n",
       "      <td>-116.56346</td>\n",
       "      <td>Nampa</td>\n",
       "      <td>US</td>\n",
       "      <td>0</td>\n",
       "    </tr>\n",
       "    <tr>\n",
       "      <th>4</th>\n",
       "      <td>be0b8acc57bfe126a5a392fd99e6ddd1</td>\n",
       "      <td>2022-01-01 00:03:55</td>\n",
       "      <td>4515188652242507</td>\n",
       "      <td>Grocery</td>\n",
       "      <td>59.22</td>\n",
       "      <td>40.24537</td>\n",
       "      <td>-75.64963</td>\n",
       "      <td>Pottstown</td>\n",
       "      <td>US</td>\n",
       "      <td>0</td>\n",
       "    </tr>\n",
       "  </tbody>\n",
       "</table>\n",
       "</div>"
      ],
      "text/plain": [
       "                                tid             datetime            cc_num  \\\n",
       "0  11df919988c134d97bbff2678eb68e22  2022-01-01 00:00:24  4473593503484549   \n",
       "1  dd0b2d6d4266ccd3bf05bc2ea91cf180  2022-01-01 00:00:56  4272465718946864   \n",
       "2  e627f5d9a9739833bd52d2da51761fc3  2022-01-01 00:02:32  4104216579248948   \n",
       "3  6fb3e6beafbb92b8e15827037f603c52  2022-01-01 00:03:24  4814447237003448   \n",
       "4  be0b8acc57bfe126a5a392fd99e6ddd1  2022-01-01 00:03:55  4515188652242507   \n",
       "\n",
       "             category  amount  latitude  longitude            city country  \\\n",
       "0       Health/Beauty   62.95  42.30865  -83.48216          Canton      US   \n",
       "1             Grocery   85.45  33.52253 -117.70755   Laguna Niguel      US   \n",
       "2  Domestic Transport   21.63  37.60876  -77.37331  Mechanicsville      US   \n",
       "3       Health/Beauty   54.71  43.54072 -116.56346           Nampa      US   \n",
       "4             Grocery   59.22  40.24537  -75.64963       Pottstown      US   \n",
       "\n",
       "   fraud_label  \n",
       "0            0  \n",
       "1            0  \n",
       "2            0  \n",
       "3            0  \n",
       "4            0  "
      ]
     },
     "execution_count": 44,
     "metadata": {},
     "output_type": "execute_result"
    }
   ],
   "source": [
    "tran_df.head()"
   ]
  },
  {
   "cell_type": "code",
   "execution_count": 45,
   "id": "4c0f1304",
   "metadata": {},
   "outputs": [],
   "source": [
    "#creating a variable for Fraud Tansaction\n",
    "\n",
    "df_fraud=tran_df.query('fraud_label==1')"
   ]
  },
  {
   "cell_type": "code",
   "execution_count": 46,
   "id": "00ba2863",
   "metadata": {},
   "outputs": [
    {
     "data": {
      "text/html": [
       "<div>\n",
       "<style scoped>\n",
       "    .dataframe tbody tr th:only-of-type {\n",
       "        vertical-align: middle;\n",
       "    }\n",
       "\n",
       "    .dataframe tbody tr th {\n",
       "        vertical-align: top;\n",
       "    }\n",
       "\n",
       "    .dataframe thead th {\n",
       "        text-align: right;\n",
       "    }\n",
       "</style>\n",
       "<table border=\"1\" class=\"dataframe\">\n",
       "  <thead>\n",
       "    <tr style=\"text-align: right;\">\n",
       "      <th></th>\n",
       "      <th>tid</th>\n",
       "      <th>datetime</th>\n",
       "      <th>cc_num</th>\n",
       "      <th>category</th>\n",
       "      <th>amount</th>\n",
       "      <th>latitude</th>\n",
       "      <th>longitude</th>\n",
       "      <th>city</th>\n",
       "      <th>country</th>\n",
       "      <th>fraud_label</th>\n",
       "    </tr>\n",
       "  </thead>\n",
       "  <tbody>\n",
       "    <tr>\n",
       "      <th>3995</th>\n",
       "      <td>88d1c87a640509235b151bb2043d6908</td>\n",
       "      <td>2022-01-05 08:18:35</td>\n",
       "      <td>4826919959712584</td>\n",
       "      <td>Grocery</td>\n",
       "      <td>14.80</td>\n",
       "      <td>42.58342</td>\n",
       "      <td>-71.80230</td>\n",
       "      <td>Fitchburg</td>\n",
       "      <td>US</td>\n",
       "      <td>1</td>\n",
       "    </tr>\n",
       "    <tr>\n",
       "      <th>3996</th>\n",
       "      <td>da706d3951aba9e2083edbde125bcda5</td>\n",
       "      <td>2022-01-05 08:19:46</td>\n",
       "      <td>4826919959712584</td>\n",
       "      <td>Clothing</td>\n",
       "      <td>628.08</td>\n",
       "      <td>45.16024</td>\n",
       "      <td>-93.08883</td>\n",
       "      <td>Lino Lakes</td>\n",
       "      <td>US</td>\n",
       "      <td>1</td>\n",
       "    </tr>\n",
       "    <tr>\n",
       "      <th>3997</th>\n",
       "      <td>ffa856d6afdc6dae5fe7f47536408524</td>\n",
       "      <td>2022-01-05 08:20:37</td>\n",
       "      <td>4826919959712584</td>\n",
       "      <td>Grocery</td>\n",
       "      <td>76.87</td>\n",
       "      <td>33.95015</td>\n",
       "      <td>-118.03917</td>\n",
       "      <td>South Whittier</td>\n",
       "      <td>US</td>\n",
       "      <td>1</td>\n",
       "    </tr>\n",
       "    <tr>\n",
       "      <th>3998</th>\n",
       "      <td>c7daaaab98afb3ecd97456ffbf221e31</td>\n",
       "      <td>2022-01-05 08:21:07</td>\n",
       "      <td>4826919959712584</td>\n",
       "      <td>Grocery</td>\n",
       "      <td>1.99</td>\n",
       "      <td>47.76232</td>\n",
       "      <td>-122.20540</td>\n",
       "      <td>Bothell</td>\n",
       "      <td>US</td>\n",
       "      <td>1</td>\n",
       "    </tr>\n",
       "    <tr>\n",
       "      <th>3999</th>\n",
       "      <td>afca0fde2a06e6527584aef5762ead6f</td>\n",
       "      <td>2022-01-05 08:22:56</td>\n",
       "      <td>4826919959712584</td>\n",
       "      <td>Grocery</td>\n",
       "      <td>90.82</td>\n",
       "      <td>41.85420</td>\n",
       "      <td>-87.66561</td>\n",
       "      <td>Lower West Side</td>\n",
       "      <td>US</td>\n",
       "      <td>1</td>\n",
       "    </tr>\n",
       "    <tr>\n",
       "      <th>...</th>\n",
       "      <td>...</td>\n",
       "      <td>...</td>\n",
       "      <td>...</td>\n",
       "      <td>...</td>\n",
       "      <td>...</td>\n",
       "      <td>...</td>\n",
       "      <td>...</td>\n",
       "      <td>...</td>\n",
       "      <td>...</td>\n",
       "      <td>...</td>\n",
       "    </tr>\n",
       "    <tr>\n",
       "      <th>91822</th>\n",
       "      <td>a96b0f26eef9a97e490761485df3d250</td>\n",
       "      <td>2022-01-19 18:18:26</td>\n",
       "      <td>4689053260157812</td>\n",
       "      <td>Cash Withdrawal</td>\n",
       "      <td>95.63</td>\n",
       "      <td>18.87813</td>\n",
       "      <td>72.93924</td>\n",
       "      <td>Uran</td>\n",
       "      <td>IN</td>\n",
       "      <td>1</td>\n",
       "    </tr>\n",
       "    <tr>\n",
       "      <th>94670</th>\n",
       "      <td>d34dd5708374ab6d85d27441d528f03c</td>\n",
       "      <td>2022-01-21 05:13:59</td>\n",
       "      <td>4503665138172253</td>\n",
       "      <td>Cash Withdrawal</td>\n",
       "      <td>1355.39</td>\n",
       "      <td>-5.85746</td>\n",
       "      <td>144.23058</td>\n",
       "      <td>Mount Hagen</td>\n",
       "      <td>PG</td>\n",
       "      <td>1</td>\n",
       "    </tr>\n",
       "    <tr>\n",
       "      <th>95219</th>\n",
       "      <td>b061009925470cd5788b7b00e9621462</td>\n",
       "      <td>2022-02-23 16:15:29</td>\n",
       "      <td>4815333028167429</td>\n",
       "      <td>Cash Withdrawal</td>\n",
       "      <td>28.16</td>\n",
       "      <td>1.60000</td>\n",
       "      <td>103.81667</td>\n",
       "      <td>Ulu Tiram</td>\n",
       "      <td>MY</td>\n",
       "      <td>1</td>\n",
       "    </tr>\n",
       "    <tr>\n",
       "      <th>96319</th>\n",
       "      <td>adbd75721bd58326aabe26bd2fd0022a</td>\n",
       "      <td>2022-02-25 00:21:56</td>\n",
       "      <td>4824418235897204</td>\n",
       "      <td>Cash Withdrawal</td>\n",
       "      <td>229.41</td>\n",
       "      <td>36.24624</td>\n",
       "      <td>139.07204</td>\n",
       "      <td>Fujioka</td>\n",
       "      <td>JP</td>\n",
       "      <td>1</td>\n",
       "    </tr>\n",
       "    <tr>\n",
       "      <th>97821</th>\n",
       "      <td>b8817d0ff3625ac57ea6c108eeb0f6f9</td>\n",
       "      <td>2022-01-20 16:21:13</td>\n",
       "      <td>4262581809463247</td>\n",
       "      <td>Cash Withdrawal</td>\n",
       "      <td>90.38</td>\n",
       "      <td>39.59611</td>\n",
       "      <td>27.02444</td>\n",
       "      <td>Edremit</td>\n",
       "      <td>TR</td>\n",
       "      <td>1</td>\n",
       "    </tr>\n",
       "  </tbody>\n",
       "</table>\n",
       "<p>155 rows × 10 columns</p>\n",
       "</div>"
      ],
      "text/plain": [
       "                                    tid             datetime  \\\n",
       "3995   88d1c87a640509235b151bb2043d6908  2022-01-05 08:18:35   \n",
       "3996   da706d3951aba9e2083edbde125bcda5  2022-01-05 08:19:46   \n",
       "3997   ffa856d6afdc6dae5fe7f47536408524  2022-01-05 08:20:37   \n",
       "3998   c7daaaab98afb3ecd97456ffbf221e31  2022-01-05 08:21:07   \n",
       "3999   afca0fde2a06e6527584aef5762ead6f  2022-01-05 08:22:56   \n",
       "...                                 ...                  ...   \n",
       "91822  a96b0f26eef9a97e490761485df3d250  2022-01-19 18:18:26   \n",
       "94670  d34dd5708374ab6d85d27441d528f03c  2022-01-21 05:13:59   \n",
       "95219  b061009925470cd5788b7b00e9621462  2022-02-23 16:15:29   \n",
       "96319  adbd75721bd58326aabe26bd2fd0022a  2022-02-25 00:21:56   \n",
       "97821  b8817d0ff3625ac57ea6c108eeb0f6f9  2022-01-20 16:21:13   \n",
       "\n",
       "                 cc_num         category   amount  latitude  longitude  \\\n",
       "3995   4826919959712584          Grocery    14.80  42.58342  -71.80230   \n",
       "3996   4826919959712584         Clothing   628.08  45.16024  -93.08883   \n",
       "3997   4826919959712584          Grocery    76.87  33.95015 -118.03917   \n",
       "3998   4826919959712584          Grocery     1.99  47.76232 -122.20540   \n",
       "3999   4826919959712584          Grocery    90.82  41.85420  -87.66561   \n",
       "...                 ...              ...      ...       ...        ...   \n",
       "91822  4689053260157812  Cash Withdrawal    95.63  18.87813   72.93924   \n",
       "94670  4503665138172253  Cash Withdrawal  1355.39  -5.85746  144.23058   \n",
       "95219  4815333028167429  Cash Withdrawal    28.16   1.60000  103.81667   \n",
       "96319  4824418235897204  Cash Withdrawal   229.41  36.24624  139.07204   \n",
       "97821  4262581809463247  Cash Withdrawal    90.38  39.59611   27.02444   \n",
       "\n",
       "                  city country  fraud_label  \n",
       "3995         Fitchburg      US            1  \n",
       "3996        Lino Lakes      US            1  \n",
       "3997    South Whittier      US            1  \n",
       "3998           Bothell      US            1  \n",
       "3999   Lower West Side      US            1  \n",
       "...                ...     ...          ...  \n",
       "91822             Uran      IN            1  \n",
       "94670      Mount Hagen      PG            1  \n",
       "95219        Ulu Tiram      MY            1  \n",
       "96319          Fujioka      JP            1  \n",
       "97821          Edremit      TR            1  \n",
       "\n",
       "[155 rows x 10 columns]"
      ]
     },
     "execution_count": 46,
     "metadata": {},
     "output_type": "execute_result"
    }
   ],
   "source": [
    "df_fraud"
   ]
  },
  {
   "cell_type": "code",
   "execution_count": 47,
   "id": "aeb76d1a",
   "metadata": {},
   "outputs": [
    {
     "data": {
      "text/html": [
       "<div>\n",
       "<style scoped>\n",
       "    .dataframe tbody tr th:only-of-type {\n",
       "        vertical-align: middle;\n",
       "    }\n",
       "\n",
       "    .dataframe tbody tr th {\n",
       "        vertical-align: top;\n",
       "    }\n",
       "\n",
       "    .dataframe thead th {\n",
       "        text-align: right;\n",
       "    }\n",
       "</style>\n",
       "<table border=\"1\" class=\"dataframe\">\n",
       "  <thead>\n",
       "    <tr style=\"text-align: right;\">\n",
       "      <th></th>\n",
       "      <th>16364</th>\n",
       "      <th>55104</th>\n",
       "    </tr>\n",
       "  </thead>\n",
       "  <tbody>\n",
       "    <tr>\n",
       "      <th>tid</th>\n",
       "      <td>4632e0da14d1475a894f283a40d1be6c</td>\n",
       "      <td>77cfb700ad977d11ceed2c60e4648dac</td>\n",
       "    </tr>\n",
       "    <tr>\n",
       "      <th>datetime</th>\n",
       "      <td>2022-01-19 01:09:12</td>\n",
       "      <td>2022-02-04 10:33:01</td>\n",
       "    </tr>\n",
       "    <tr>\n",
       "      <th>cc_num</th>\n",
       "      <td>4013640810125666</td>\n",
       "      <td>4078738768751046</td>\n",
       "    </tr>\n",
       "    <tr>\n",
       "      <th>category</th>\n",
       "      <td>Grocery</td>\n",
       "      <td>Cash Withdrawal</td>\n",
       "    </tr>\n",
       "    <tr>\n",
       "      <th>amount</th>\n",
       "      <td>0.05</td>\n",
       "      <td>7321.11</td>\n",
       "    </tr>\n",
       "    <tr>\n",
       "      <th>latitude</th>\n",
       "      <td>39.33427</td>\n",
       "      <td>34.25</td>\n",
       "    </tr>\n",
       "    <tr>\n",
       "      <th>longitude</th>\n",
       "      <td>-76.43941</td>\n",
       "      <td>135.31667</td>\n",
       "    </tr>\n",
       "    <tr>\n",
       "      <th>city</th>\n",
       "      <td>Middle River</td>\n",
       "      <td>Iwade</td>\n",
       "    </tr>\n",
       "    <tr>\n",
       "      <th>country</th>\n",
       "      <td>US</td>\n",
       "      <td>JP</td>\n",
       "    </tr>\n",
       "    <tr>\n",
       "      <th>fraud_label</th>\n",
       "      <td>1</td>\n",
       "      <td>1</td>\n",
       "    </tr>\n",
       "  </tbody>\n",
       "</table>\n",
       "</div>"
      ],
      "text/plain": [
       "                                        16364  \\\n",
       "tid          4632e0da14d1475a894f283a40d1be6c   \n",
       "datetime                  2022-01-19 01:09:12   \n",
       "cc_num                       4013640810125666   \n",
       "category                              Grocery   \n",
       "amount                                   0.05   \n",
       "latitude                             39.33427   \n",
       "longitude                           -76.43941   \n",
       "city                             Middle River   \n",
       "country                                    US   \n",
       "fraud_label                                 1   \n",
       "\n",
       "                                        55104  \n",
       "tid          77cfb700ad977d11ceed2c60e4648dac  \n",
       "datetime                  2022-02-04 10:33:01  \n",
       "cc_num                       4078738768751046  \n",
       "category                      Cash Withdrawal  \n",
       "amount                                7321.11  \n",
       "latitude                                34.25  \n",
       "longitude                           135.31667  \n",
       "city                                    Iwade  \n",
       "country                                    JP  \n",
       "fraud_label                                 1  "
      ]
     },
     "execution_count": 47,
     "metadata": {},
     "output_type": "execute_result"
    }
   ],
   "source": [
    "def maxmin(X):\n",
    "    mini=df_fraud[X].idxmin()\n",
    "    maxi=df_fraud[X].idxmax()\n",
    "    fmini=pd.DataFrame(df_fraud.loc[mini,:])\n",
    "    fmaxi=pd.DataFrame(df_fraud.loc[maxi,:])\n",
    "    return pd.concat([fmini,fmaxi],axis=1)\n",
    "\n",
    "\n",
    "maxmin('amount')\n",
    "\n",
    "#Checking the maxi and minimum amount for fraud transaction "
   ]
  },
  {
   "cell_type": "code",
   "execution_count": 48,
   "id": "1654301a",
   "metadata": {},
   "outputs": [
    {
     "data": {
      "text/html": [
       "<div>\n",
       "<style scoped>\n",
       "    .dataframe tbody tr th:only-of-type {\n",
       "        vertical-align: middle;\n",
       "    }\n",
       "\n",
       "    .dataframe tbody tr th {\n",
       "        vertical-align: top;\n",
       "    }\n",
       "\n",
       "    .dataframe thead th {\n",
       "        text-align: right;\n",
       "    }\n",
       "</style>\n",
       "<table border=\"1\" class=\"dataframe\">\n",
       "  <thead>\n",
       "    <tr style=\"text-align: right;\">\n",
       "      <th></th>\n",
       "      <th>name</th>\n",
       "      <th>sex</th>\n",
       "      <th>mail</th>\n",
       "      <th>birthdate</th>\n",
       "      <th>City</th>\n",
       "      <th>Country</th>\n",
       "      <th>cc_num</th>\n",
       "      <th>provider</th>\n",
       "      <th>expires</th>\n",
       "      <th>Add_Date</th>\n",
       "      <th>Card_days</th>\n",
       "    </tr>\n",
       "  </thead>\n",
       "  <tbody>\n",
       "    <tr>\n",
       "      <th>1487</th>\n",
       "      <td>Katherine Wheeler</td>\n",
       "      <td>F</td>\n",
       "      <td>rdaniels@hotmail.com</td>\n",
       "      <td>1976-02-10</td>\n",
       "      <td>San Gabriel</td>\n",
       "      <td>US</td>\n",
       "      <td>4078738768751046</td>\n",
       "      <td>visa</td>\n",
       "      <td>2022-02-01</td>\n",
       "      <td>2022-09-01</td>\n",
       "      <td>-212 days</td>\n",
       "    </tr>\n",
       "  </tbody>\n",
       "</table>\n",
       "</div>"
      ],
      "text/plain": [
       "                   name sex                  mail  birthdate         City  \\\n",
       "1487  Katherine Wheeler   F  rdaniels@hotmail.com 1976-02-10  San Gabriel   \n",
       "\n",
       "     Country            cc_num provider    expires   Add_Date Card_days  \n",
       "1487      US  4078738768751046     visa 2022-02-01 2022-09-01 -212 days  "
      ]
     },
     "execution_count": 48,
     "metadata": {},
     "output_type": "execute_result"
    }
   ],
   "source": [
    "#Let track\n",
    "\n",
    "data.query('cc_num==4078738768751046')"
   ]
  },
  {
   "cell_type": "markdown",
   "id": "1c1a1f69",
   "metadata": {},
   "source": [
    "**The max amount fraud transaction done is by Katherine Wheeler with the amount of 7321.**"
   ]
  },
  {
   "cell_type": "code",
   "execution_count": 49,
   "id": "3b32e0e5",
   "metadata": {},
   "outputs": [
    {
     "data": {
      "text/plain": [
       "<AxesSubplot:>"
      ]
     },
     "execution_count": 49,
     "metadata": {},
     "output_type": "execute_result"
    },
    {
     "data": {
      "image/png": "[encoded data removed]",
      "text/plain": [
       "<Figure size 640x480 with 1 Axes>"
      ]
     },
     "metadata": {},
     "output_type": "display_data"
    }
   ],
   "source": [
    "#ploting our the Amount for Fraud\n",
    "\n",
    "df_fraud['amount'].plot.box(vert=False)"
   ]
  },
  {
   "cell_type": "code",
   "execution_count": 50,
   "id": "3de62ca9",
   "metadata": {},
   "outputs": [
    {
     "data": {
      "text/plain": [
       "US    106000\n",
       "IT         4\n",
       "IN         3\n",
       "JP         2\n",
       "RU         2\n",
       "MZ         1\n",
       "GH         1\n",
       "TH         1\n",
       "NG         1\n",
       "ID         1\n",
       "ES         1\n",
       "PG         1\n",
       "MY         1\n",
       "TR         1\n",
       "Name: country, dtype: int64"
      ]
     },
     "execution_count": 50,
     "metadata": {},
     "output_type": "execute_result"
    }
   ],
   "source": [
    "#the Transaction columns have diffeent countries \n",
    "\n",
    "tran_df['country'].value_counts()"
   ]
  },
  {
   "cell_type": "code",
   "execution_count": 51,
   "id": "a12d8602",
   "metadata": {},
   "outputs": [
    {
     "data": {
      "text/plain": [
       "<AxesSubplot:>"
      ]
     },
     "execution_count": 51,
     "metadata": {},
     "output_type": "execute_result"
    },
    {
     "data": {
      "image/png": "[encoded data removed]",
      "text/plain": [
       "<Figure size 640x480 with 1 Axes>"
      ]
     },
     "metadata": {},
     "output_type": "display_data"
    }
   ],
   "source": [
    "tran_df['amount'].plot.box(vert=False)"
   ]
  },
  {
   "cell_type": "markdown",
   "id": "3152102c",
   "metadata": {},
   "source": [
    "^Excessive values^"
   ]
  },
  {
   "cell_type": "code",
   "execution_count": 52,
   "id": "a80e9635",
   "metadata": {},
   "outputs": [
    {
     "data": {
      "text/html": [
       "<div>\n",
       "<style scoped>\n",
       "    .dataframe tbody tr th:only-of-type {\n",
       "        vertical-align: middle;\n",
       "    }\n",
       "\n",
       "    .dataframe tbody tr th {\n",
       "        vertical-align: top;\n",
       "    }\n",
       "\n",
       "    .dataframe thead th {\n",
       "        text-align: right;\n",
       "    }\n",
       "</style>\n",
       "<table border=\"1\" class=\"dataframe\">\n",
       "  <thead>\n",
       "    <tr style=\"text-align: right;\">\n",
       "      <th></th>\n",
       "      <th>tid</th>\n",
       "      <th>datetime</th>\n",
       "      <th>cc_num</th>\n",
       "      <th>category</th>\n",
       "      <th>amount</th>\n",
       "      <th>latitude</th>\n",
       "      <th>longitude</th>\n",
       "      <th>city</th>\n",
       "      <th>country</th>\n",
       "      <th>fraud_label</th>\n",
       "    </tr>\n",
       "  </thead>\n",
       "  <tbody>\n",
       "    <tr>\n",
       "      <th>0</th>\n",
       "      <td>11df919988c134d97bbff2678eb68e22</td>\n",
       "      <td>2022-01-01 00:00:24</td>\n",
       "      <td>4473593503484549</td>\n",
       "      <td>Health/Beauty</td>\n",
       "      <td>62.95</td>\n",
       "      <td>42.30865</td>\n",
       "      <td>-83.48216</td>\n",
       "      <td>Canton</td>\n",
       "      <td>US</td>\n",
       "      <td>0</td>\n",
       "    </tr>\n",
       "    <tr>\n",
       "      <th>1</th>\n",
       "      <td>dd0b2d6d4266ccd3bf05bc2ea91cf180</td>\n",
       "      <td>2022-01-01 00:00:56</td>\n",
       "      <td>4272465718946864</td>\n",
       "      <td>Grocery</td>\n",
       "      <td>85.45</td>\n",
       "      <td>33.52253</td>\n",
       "      <td>-117.70755</td>\n",
       "      <td>Laguna Niguel</td>\n",
       "      <td>US</td>\n",
       "      <td>0</td>\n",
       "    </tr>\n",
       "  </tbody>\n",
       "</table>\n",
       "</div>"
      ],
      "text/plain": [
       "                                tid             datetime            cc_num  \\\n",
       "0  11df919988c134d97bbff2678eb68e22  2022-01-01 00:00:24  4473593503484549   \n",
       "1  dd0b2d6d4266ccd3bf05bc2ea91cf180  2022-01-01 00:00:56  4272465718946864   \n",
       "\n",
       "        category  amount  latitude  longitude           city country  \\\n",
       "0  Health/Beauty   62.95  42.30865  -83.48216         Canton      US   \n",
       "1        Grocery   85.45  33.52253 -117.70755  Laguna Niguel      US   \n",
       "\n",
       "   fraud_label  \n",
       "0            0  \n",
       "1            0  "
      ]
     },
     "execution_count": 52,
     "metadata": {},
     "output_type": "execute_result"
    }
   ],
   "source": [
    "tran_df[:2]"
   ]
  },
  {
   "cell_type": "code",
   "execution_count": 53,
   "id": "a6184b52",
   "metadata": {},
   "outputs": [
    {
     "data": {
      "text/html": [
       "<div>\n",
       "<style scoped>\n",
       "    .dataframe tbody tr th:only-of-type {\n",
       "        vertical-align: middle;\n",
       "    }\n",
       "\n",
       "    .dataframe tbody tr th {\n",
       "        vertical-align: top;\n",
       "    }\n",
       "\n",
       "    .dataframe thead th {\n",
       "        text-align: right;\n",
       "    }\n",
       "</style>\n",
       "<table border=\"1\" class=\"dataframe\">\n",
       "  <thead>\n",
       "    <tr style=\"text-align: right;\">\n",
       "      <th></th>\n",
       "      <th>cc_num</th>\n",
       "      <th>category</th>\n",
       "      <th>amount</th>\n",
       "      <th>city</th>\n",
       "      <th>country</th>\n",
       "      <th>fraud_label</th>\n",
       "    </tr>\n",
       "  </thead>\n",
       "  <tbody>\n",
       "    <tr>\n",
       "      <th>0</th>\n",
       "      <td>4473593503484549</td>\n",
       "      <td>Health/Beauty</td>\n",
       "      <td>62.95</td>\n",
       "      <td>Canton</td>\n",
       "      <td>US</td>\n",
       "      <td>0</td>\n",
       "    </tr>\n",
       "    <tr>\n",
       "      <th>1</th>\n",
       "      <td>4272465718946864</td>\n",
       "      <td>Grocery</td>\n",
       "      <td>85.45</td>\n",
       "      <td>Laguna Niguel</td>\n",
       "      <td>US</td>\n",
       "      <td>0</td>\n",
       "    </tr>\n",
       "    <tr>\n",
       "      <th>2</th>\n",
       "      <td>4104216579248948</td>\n",
       "      <td>Domestic Transport</td>\n",
       "      <td>21.63</td>\n",
       "      <td>Mechanicsville</td>\n",
       "      <td>US</td>\n",
       "      <td>0</td>\n",
       "    </tr>\n",
       "    <tr>\n",
       "      <th>3</th>\n",
       "      <td>4814447237003448</td>\n",
       "      <td>Health/Beauty</td>\n",
       "      <td>54.71</td>\n",
       "      <td>Nampa</td>\n",
       "      <td>US</td>\n",
       "      <td>0</td>\n",
       "    </tr>\n",
       "    <tr>\n",
       "      <th>4</th>\n",
       "      <td>4515188652242507</td>\n",
       "      <td>Grocery</td>\n",
       "      <td>59.22</td>\n",
       "      <td>Pottstown</td>\n",
       "      <td>US</td>\n",
       "      <td>0</td>\n",
       "    </tr>\n",
       "    <tr>\n",
       "      <th>...</th>\n",
       "      <td>...</td>\n",
       "      <td>...</td>\n",
       "      <td>...</td>\n",
       "      <td>...</td>\n",
       "      <td>...</td>\n",
       "      <td>...</td>\n",
       "    </tr>\n",
       "    <tr>\n",
       "      <th>106015</th>\n",
       "      <td>4032019521897961</td>\n",
       "      <td>Cash Withdrawal</td>\n",
       "      <td>73.08</td>\n",
       "      <td>Westchester</td>\n",
       "      <td>US</td>\n",
       "      <td>0</td>\n",
       "    </tr>\n",
       "    <tr>\n",
       "      <th>106016</th>\n",
       "      <td>4032019521897961</td>\n",
       "      <td>Cash Withdrawal</td>\n",
       "      <td>287.33</td>\n",
       "      <td>Westchester</td>\n",
       "      <td>US</td>\n",
       "      <td>0</td>\n",
       "    </tr>\n",
       "    <tr>\n",
       "      <th>106017</th>\n",
       "      <td>4032019521897961</td>\n",
       "      <td>Cash Withdrawal</td>\n",
       "      <td>53.88</td>\n",
       "      <td>Westchester</td>\n",
       "      <td>US</td>\n",
       "      <td>0</td>\n",
       "    </tr>\n",
       "    <tr>\n",
       "      <th>106018</th>\n",
       "      <td>4032019521897961</td>\n",
       "      <td>Cash Withdrawal</td>\n",
       "      <td>279.73</td>\n",
       "      <td>Westchester</td>\n",
       "      <td>US</td>\n",
       "      <td>0</td>\n",
       "    </tr>\n",
       "    <tr>\n",
       "      <th>106019</th>\n",
       "      <td>4032019521897961</td>\n",
       "      <td>Cash Withdrawal</td>\n",
       "      <td>73.66</td>\n",
       "      <td>Westchester</td>\n",
       "      <td>US</td>\n",
       "      <td>0</td>\n",
       "    </tr>\n",
       "  </tbody>\n",
       "</table>\n",
       "<p>106020 rows × 6 columns</p>\n",
       "</div>"
      ],
      "text/plain": [
       "                  cc_num            category  amount            city country  \\\n",
       "0       4473593503484549       Health/Beauty   62.95          Canton      US   \n",
       "1       4272465718946864             Grocery   85.45   Laguna Niguel      US   \n",
       "2       4104216579248948  Domestic Transport   21.63  Mechanicsville      US   \n",
       "3       4814447237003448       Health/Beauty   54.71           Nampa      US   \n",
       "4       4515188652242507             Grocery   59.22       Pottstown      US   \n",
       "...                  ...                 ...     ...             ...     ...   \n",
       "106015  4032019521897961     Cash Withdrawal   73.08     Westchester      US   \n",
       "106016  4032019521897961     Cash Withdrawal  287.33     Westchester      US   \n",
       "106017  4032019521897961     Cash Withdrawal   53.88     Westchester      US   \n",
       "106018  4032019521897961     Cash Withdrawal  279.73     Westchester      US   \n",
       "106019  4032019521897961     Cash Withdrawal   73.66     Westchester      US   \n",
       "\n",
       "        fraud_label  \n",
       "0                 0  \n",
       "1                 0  \n",
       "2                 0  \n",
       "3                 0  \n",
       "4                 0  \n",
       "...             ...  \n",
       "106015            0  \n",
       "106016            0  \n",
       "106017            0  \n",
       "106018            0  \n",
       "106019            0  \n",
       "\n",
       "[106020 rows x 6 columns]"
      ]
     },
     "execution_count": 53,
     "metadata": {},
     "output_type": "execute_result"
    }
   ],
   "source": [
    "#Slecting The Columns\n",
    "\n",
    "df=tran_df.loc[:,['cc_num','category','amount','city','country','fraud_label']]\n",
    "\n",
    "df"
   ]
  },
  {
   "cell_type": "code",
   "execution_count": 54,
   "id": "5aa7acb4",
   "metadata": {},
   "outputs": [],
   "source": [
    "#moving to ML\n",
    "\n",
    "from sklearn.preprocessing import LabelEncoder"
   ]
  },
  {
   "cell_type": "code",
   "execution_count": 55,
   "id": "7cdba717",
   "metadata": {},
   "outputs": [],
   "source": [
    "code=LabelEncoder()\n",
    "df['category']=code.fit_transform(df['category'])\n",
    "df['city']=code.fit_transform(df['city'])\n",
    "df['country']=code.fit_transform(df['country'])"
   ]
  },
  {
   "cell_type": "code",
   "execution_count": 56,
   "id": "c4eb2ce2",
   "metadata": {},
   "outputs": [
    {
     "data": {
      "text/html": [
       "<div>\n",
       "<style scoped>\n",
       "    .dataframe tbody tr th:only-of-type {\n",
       "        vertical-align: middle;\n",
       "    }\n",
       "\n",
       "    .dataframe tbody tr th {\n",
       "        vertical-align: top;\n",
       "    }\n",
       "\n",
       "    .dataframe thead th {\n",
       "        text-align: right;\n",
       "    }\n",
       "</style>\n",
       "<table border=\"1\" class=\"dataframe\">\n",
       "  <thead>\n",
       "    <tr style=\"text-align: right;\">\n",
       "      <th></th>\n",
       "      <th>cc_num</th>\n",
       "      <th>category</th>\n",
       "      <th>amount</th>\n",
       "      <th>city</th>\n",
       "      <th>country</th>\n",
       "      <th>fraud_label</th>\n",
       "    </tr>\n",
       "  </thead>\n",
       "  <tbody>\n",
       "    <tr>\n",
       "      <th>0</th>\n",
       "      <td>4473593503484549</td>\n",
       "      <td>5</td>\n",
       "      <td>62.95</td>\n",
       "      <td>22</td>\n",
       "      <td>13</td>\n",
       "      <td>0</td>\n",
       "    </tr>\n",
       "    <tr>\n",
       "      <th>1</th>\n",
       "      <td>4272465718946864</td>\n",
       "      <td>4</td>\n",
       "      <td>85.45</td>\n",
       "      <td>80</td>\n",
       "      <td>13</td>\n",
       "      <td>0</td>\n",
       "    </tr>\n",
       "    <tr>\n",
       "      <th>2</th>\n",
       "      <td>4104216579248948</td>\n",
       "      <td>2</td>\n",
       "      <td>21.63</td>\n",
       "      <td>96</td>\n",
       "      <td>13</td>\n",
       "      <td>0</td>\n",
       "    </tr>\n",
       "    <tr>\n",
       "      <th>3</th>\n",
       "      <td>4814447237003448</td>\n",
       "      <td>5</td>\n",
       "      <td>54.71</td>\n",
       "      <td>106</td>\n",
       "      <td>13</td>\n",
       "      <td>0</td>\n",
       "    </tr>\n",
       "    <tr>\n",
       "      <th>4</th>\n",
       "      <td>4515188652242507</td>\n",
       "      <td>4</td>\n",
       "      <td>59.22</td>\n",
       "      <td>129</td>\n",
       "      <td>13</td>\n",
       "      <td>0</td>\n",
       "    </tr>\n",
       "  </tbody>\n",
       "</table>\n",
       "</div>"
      ],
      "text/plain": [
       "             cc_num  category  amount  city  country  fraud_label\n",
       "0  4473593503484549         5   62.95    22       13            0\n",
       "1  4272465718946864         4   85.45    80       13            0\n",
       "2  4104216579248948         2   21.63    96       13            0\n",
       "3  4814447237003448         5   54.71   106       13            0\n",
       "4  4515188652242507         4   59.22   129       13            0"
      ]
     },
     "execution_count": 56,
     "metadata": {},
     "output_type": "execute_result"
    }
   ],
   "source": [
    "df.head()"
   ]
  },
  {
   "cell_type": "code",
   "execution_count": 57,
   "id": "de9db357",
   "metadata": {},
   "outputs": [
    {
     "name": "stdout",
     "output_type": "stream",
     "text": [
      "<class 'pandas.core.frame.DataFrame'>\n",
      "RangeIndex: 106020 entries, 0 to 106019\n",
      "Data columns (total 6 columns):\n",
      " #   Column       Non-Null Count   Dtype  \n",
      "---  ------       --------------   -----  \n",
      " 0   cc_num       106020 non-null  int64  \n",
      " 1   category     106020 non-null  int32  \n",
      " 2   amount       106020 non-null  float64\n",
      " 3   city         106020 non-null  int32  \n",
      " 4   country      106020 non-null  int32  \n",
      " 5   fraud_label  106020 non-null  int64  \n",
      "dtypes: float64(1), int32(3), int64(2)\n",
      "memory usage: 3.6 MB\n"
     ]
    }
   ],
   "source": [
    "df.info()"
   ]
  },
  {
   "cell_type": "code",
   "execution_count": 58,
   "id": "21072b4c",
   "metadata": {},
   "outputs": [],
   "source": [
    "from sklearn.linear_model import LogisticRegression\n",
    "from sklearn.neighbors import KNeighborsClassifier\n",
    "from sklearn.svm import SVC\n",
    "from sklearn.discriminant_analysis import LinearDiscriminantAnalysis"
   ]
  },
  {
   "cell_type": "code",
   "execution_count": 59,
   "id": "c32c74f8",
   "metadata": {},
   "outputs": [],
   "source": [
    "from sklearn.model_selection import train_test_split"
   ]
  },
  {
   "cell_type": "code",
   "execution_count": 60,
   "id": "65e34d45",
   "metadata": {},
   "outputs": [],
   "source": [
    "X=df.drop('fraud_label',axis=1)\n",
    "\n",
    "y=df['fraud_label']"
   ]
  },
  {
   "cell_type": "code",
   "execution_count": 61,
   "id": "e6317411",
   "metadata": {},
   "outputs": [],
   "source": [
    "X_train, X_other, y_train, y_other = train_test_split(X, y, test_size=0.3, random_state=101)\n",
    "X_eval, X_test, y_eval, y_test = train_test_split(X_other, y_other, test_size=0.5, random_state=101)"
   ]
  },
  {
   "cell_type": "code",
   "execution_count": 62,
   "id": "d14a465c",
   "metadata": {},
   "outputs": [
    {
     "data": {
      "text/plain": [
       "106020"
      ]
     },
     "execution_count": 62,
     "metadata": {},
     "output_type": "execute_result"
    }
   ],
   "source": [
    "len(df)"
   ]
  },
  {
   "cell_type": "code",
   "execution_count": 63,
   "id": "b2246112",
   "metadata": {},
   "outputs": [
    {
     "data": {
      "text/plain": [
       "74214"
      ]
     },
     "execution_count": 63,
     "metadata": {},
     "output_type": "execute_result"
    }
   ],
   "source": [
    "len(X_train)"
   ]
  },
  {
   "cell_type": "code",
   "execution_count": 64,
   "id": "15e7327e",
   "metadata": {},
   "outputs": [
    {
     "data": {
      "text/plain": [
       "15903"
      ]
     },
     "execution_count": 64,
     "metadata": {},
     "output_type": "execute_result"
    }
   ],
   "source": [
    "len(X_eval)"
   ]
  },
  {
   "cell_type": "code",
   "execution_count": 65,
   "id": "e64c2cc7",
   "metadata": {},
   "outputs": [
    {
     "data": {
      "text/plain": [
       "15903"
      ]
     },
     "execution_count": 65,
     "metadata": {},
     "output_type": "execute_result"
    }
   ],
   "source": [
    "len(X_test)"
   ]
  },
  {
   "cell_type": "code",
   "execution_count": 68,
   "id": "d853517a",
   "metadata": {},
   "outputs": [],
   "source": [
    "models=[]\n",
    "models.append(('LR',LogisticRegression()))\n",
    "models.append(('KNN',KNeighborsClassifier()))\n",
    "models.append(('SVM',SVC()))\n",
    "models.append(('LDA',LinearDiscriminantAnalysis()))"
   ]
  },
  {
   "cell_type": "code",
   "execution_count": 69,
   "id": "752a2e71",
   "metadata": {},
   "outputs": [],
   "source": [
    "from sklearn.model_selection import cross_val_score,KFold\n",
    "\n",
    "scoring='accuracy'"
   ]
  },
  {
   "cell_type": "code",
   "execution_count": 70,
   "id": "66f74fb5",
   "metadata": {},
   "outputs": [
    {
     "name": "stderr",
     "output_type": "stream",
     "text": [
      "C:\\Users\\HP\\anaconda3\\lib\\site-packages\\sklearn\\linear_model\\_logistic.py:814: ConvergenceWarning: lbfgs failed to converge (status=2):\n",
      "ABNORMAL_TERMINATION_IN_LNSRCH.\n",
      "\n",
      "Increase the number of iterations (max_iter) or scale the data as shown in:\n",
      "    https://scikit-learn.org/stable/modules/preprocessing.html\n",
      "Please also refer to the documentation for alternative solver options:\n",
      "    https://scikit-learn.org/stable/modules/linear_model.html#logistic-regression\n",
      "  n_iter_i = _check_optimize_result(\n",
      "C:\\Users\\HP\\anaconda3\\lib\\site-packages\\sklearn\\linear_model\\_logistic.py:814: ConvergenceWarning: lbfgs failed to converge (status=2):\n",
      "ABNORMAL_TERMINATION_IN_LNSRCH.\n",
      "\n",
      "Increase the number of iterations (max_iter) or scale the data as shown in:\n",
      "    https://scikit-learn.org/stable/modules/preprocessing.html\n",
      "Please also refer to the documentation for alternative solver options:\n",
      "    https://scikit-learn.org/stable/modules/linear_model.html#logistic-regression\n",
      "  n_iter_i = _check_optimize_result(\n",
      "C:\\Users\\HP\\anaconda3\\lib\\site-packages\\sklearn\\linear_model\\_logistic.py:814: ConvergenceWarning: lbfgs failed to converge (status=2):\n",
      "ABNORMAL_TERMINATION_IN_LNSRCH.\n",
      "\n",
      "Increase the number of iterations (max_iter) or scale the data as shown in:\n",
      "    https://scikit-learn.org/stable/modules/preprocessing.html\n",
      "Please also refer to the documentation for alternative solver options:\n",
      "    https://scikit-learn.org/stable/modules/linear_model.html#logistic-regression\n",
      "  n_iter_i = _check_optimize_result(\n",
      "C:\\Users\\HP\\anaconda3\\lib\\site-packages\\sklearn\\linear_model\\_logistic.py:814: ConvergenceWarning: lbfgs failed to converge (status=2):\n",
      "ABNORMAL_TERMINATION_IN_LNSRCH.\n",
      "\n",
      "Increase the number of iterations (max_iter) or scale the data as shown in:\n",
      "    https://scikit-learn.org/stable/modules/preprocessing.html\n",
      "Please also refer to the documentation for alternative solver options:\n",
      "    https://scikit-learn.org/stable/modules/linear_model.html#logistic-regression\n",
      "  n_iter_i = _check_optimize_result(\n",
      "C:\\Users\\HP\\anaconda3\\lib\\site-packages\\sklearn\\linear_model\\_logistic.py:814: ConvergenceWarning: lbfgs failed to converge (status=2):\n",
      "ABNORMAL_TERMINATION_IN_LNSRCH.\n",
      "\n",
      "Increase the number of iterations (max_iter) or scale the data as shown in:\n",
      "    https://scikit-learn.org/stable/modules/preprocessing.html\n",
      "Please also refer to the documentation for alternative solver options:\n",
      "    https://scikit-learn.org/stable/modules/linear_model.html#logistic-regression\n",
      "  n_iter_i = _check_optimize_result(\n"
     ]
    },
    {
     "name": "stdout",
     "output_type": "stream",
     "text": [
      "LR: 0.998518 (0.000204)\n",
      "KNN: 0.998410 (0.000193)\n",
      "SVM: 0.998518 (0.000204)\n",
      "LDA: 0.998720 (0.000159)\n"
     ]
    }
   ],
   "source": [
    "results=[]\n",
    "names=[]\n",
    "for name, model in models:\n",
    "    fold=KFold(n_splits=5)\n",
    "    cv_result=cross_val_score(model,X_train,y_train,cv=fold,scoring=scoring)\n",
    "    results.append(cv_result)\n",
    "    names.append(name)\n",
    "    msg='%s: %f (%f)'%(name,cv_result.mean(),cv_result.std())\n",
    "    print(msg)"
   ]
  },
  {
   "cell_type": "code",
   "execution_count": 71,
   "id": "28ad4cff",
   "metadata": {
    "scrolled": false
   },
   "outputs": [
    {
     "data": {
      "text/plain": [
       "[Text(1, 0, 'LR'), Text(2, 0, 'KNN'), Text(3, 0, 'SVM'), Text(4, 0, 'LDA')]"
      ]
     },
     "execution_count": 71,
     "metadata": {},
     "output_type": "execute_result"
    },
    {
     "data": {
      "image/png": "[encoded data removed]",
      "text/plain": [
       "<Figure size 640x480 with 1 Axes>"
      ]
     },
     "metadata": {},
     "output_type": "display_data"
    }
   ],
   "source": [
    "fig=plt.figure()\n",
    "fig.suptitle('Algorithm Comparison')\n",
    "ax=fig.add_subplot(111)\n",
    "plt.boxplot(results)\n",
    "ax.set_xticklabels(names)"
   ]
  },
  {
   "cell_type": "markdown",
   "id": "03771bfd",
   "metadata": {},
   "source": [
    "Linear Discriinaion analysis came out very Solid."
   ]
  },
  {
   "cell_type": "code",
   "execution_count": 74,
   "id": "ee11eb28",
   "metadata": {},
   "outputs": [],
   "source": [
    "#importing the accuracy\n",
    "\n",
    "from sklearn.metrics import accuracy_score"
   ]
  },
  {
   "cell_type": "code",
   "execution_count": 75,
   "id": "4a2c2ac0",
   "metadata": {},
   "outputs": [
    {
     "data": {
      "text/plain": [
       "0.9986794944350122"
      ]
     },
     "execution_count": 75,
     "metadata": {},
     "output_type": "execute_result"
    }
   ],
   "source": [
    "#testing for the Validation Text\n",
    "\n",
    "model_1=LinearDiscriminantAnalysis()\n",
    "model_1.fit(X_train,y_train)\n",
    "y_eval_predict=model_1.predict(X_eval)\n",
    "accuracy_score(y_test,y_eval_predict)"
   ]
  },
  {
   "cell_type": "code",
   "execution_count": 88,
   "id": "183bbf18",
   "metadata": {},
   "outputs": [
    {
     "data": {
      "text/plain": [
       "0.9989939005219141"
      ]
     },
     "execution_count": 88,
     "metadata": {},
     "output_type": "execute_result"
    }
   ],
   "source": [
    "#Texting for the X_test Itself\n",
    "\n",
    "model_=LinearDiscriminantAnalysis()\n",
    "model_.fit(X_train,y_train)\n",
    "y_new_predict=model_.predict(X_test)\n",
    "accuracy_score(y_test,y_new_predict)"
   ]
  },
  {
   "cell_type": "code",
   "execution_count": 79,
   "id": "84312b9f",
   "metadata": {},
   "outputs": [
    {
     "name": "stdout",
     "output_type": "stream",
     "text": [
      "\u001b[31m Almost The same Result little Bit of differences -0.0003144060869018084\n"
     ]
    }
   ],
   "source": [
    "print(Fore.RED,\"Almost The same Result little Bit of differences\",0.9986794944350122-0.9989939005219141) "
   ]
  },
  {
   "cell_type": "code",
   "execution_count": 128,
   "id": "d25da621",
   "metadata": {},
   "outputs": [
    {
     "name": "stderr",
     "output_type": "stream",
     "text": [
      "C:\\Users\\HP\\anaconda3\\lib\\site-packages\\sklearn\\base.py:450: UserWarning: X does not have valid feature names, but LinearDiscriminantAnalysis was fitted with feature names\n",
      "  warnings.warn(\n"
     ]
    },
    {
     "data": {
      "text/plain": [
       "array([0], dtype=int64)"
      ]
     },
     "execution_count": 128,
     "metadata": {},
     "output_type": "execute_result"
    }
   ],
   "source": [
    "Custumer=[[4734716504534088,0,56,110,13]]\n",
    "\n",
    "model_1.predict(Custumer)"
   ]
  },
  {
   "cell_type": "code",
   "execution_count": 129,
   "id": "985efdd2",
   "metadata": {},
   "outputs": [
    {
     "name": "stderr",
     "output_type": "stream",
     "text": [
      "C:\\Users\\HP\\anaconda3\\lib\\site-packages\\sklearn\\base.py:450: UserWarning: X does not have valid feature names, but LinearDiscriminantAnalysis was fitted with feature names\n",
      "  warnings.warn(\n"
     ]
    },
    {
     "data": {
      "text/plain": [
       "array([[1.0000000e+00, 6.2780475e-22]])"
      ]
     },
     "execution_count": 129,
     "metadata": {},
     "output_type": "execute_result"
    }
   ],
   "source": [
    "model_1.predict_proba(Custumer)"
   ]
  },
  {
   "cell_type": "markdown",
   "id": "3e1c3ece",
   "metadata": {},
   "source": [
    "This Custumer is so certain That he Transaction is not Fraud."
   ]
  },
  {
   "cell_type": "code",
   "execution_count": 133,
   "id": "3a7aaca6",
   "metadata": {},
   "outputs": [
    {
     "name": "stderr",
     "output_type": "stream",
     "text": [
      "C:\\Users\\HP\\anaconda3\\lib\\site-packages\\sklearn\\base.py:450: UserWarning: X does not have valid feature names, but LinearDiscriminantAnalysis was fitted with feature names\n",
      "  warnings.warn(\n"
     ]
    },
    {
     "data": {
      "text/plain": [
       "array([0], dtype=int64)"
      ]
     },
     "execution_count": 133,
     "metadata": {},
     "output_type": "execute_result"
    }
   ],
   "source": [
    "Custumer2=[[4503665138172253,4,1355,152,13]]\n",
    "\n",
    "model_1.predict(Custumer2)"
   ]
  },
  {
   "cell_type": "markdown",
   "id": "1de88590",
   "metadata": {},
   "source": [
    "This custumer suppose to be fraud but the model see it has non Fraud, so seems to be Overfitting... due ,\n",
    "\n",
    "to Excessive Of Not Fraud happen more Than The Fraud.\n",
    "\n",
    "one can say the model is overfitting."
   ]
  },
  {
   "cell_type": "code",
   "execution_count": 80,
   "id": "e5ad0f3f",
   "metadata": {},
   "outputs": [],
   "source": [
    "#let Display confusion matrix\n",
    "\n",
    "\n",
    "from sklearn.metrics import confusion_matrix,ConfusionMatrixDisplay"
   ]
  },
  {
   "cell_type": "code",
   "execution_count": 91,
   "id": "7c8f7b95",
   "metadata": {},
   "outputs": [],
   "source": [
    "cm=confusion_matrix(y_test,y_eval_predict,labels=model_1.classes_)\n",
    "display=ConfusionMatrixDisplay(confusion_matrix=cm,display_labels=model_1.classes_)"
   ]
  },
  {
   "cell_type": "code",
   "execution_count": null,
   "id": "1dde9c4e",
   "metadata": {},
   "outputs": [],
   "source": [
    ",,,,"
   ]
  },
  {
   "cell_type": "code",
   "execution_count": 92,
   "id": "f769e4ca",
   "metadata": {},
   "outputs": [
    {
     "data": {
      "text/plain": [
       "<sklearn.metrics._plot.confusion_matrix.ConfusionMatrixDisplay at 0x2069b591100>"
      ]
     },
     "execution_count": 92,
     "metadata": {},
     "output_type": "execute_result"
    },
    {
     "data": {
      "image/png": "[encoded data removed]",
      "text/plain": [
       "<Figure size 640x480 with 2 Axes>"
      ]
     },
     "metadata": {},
     "output_type": "display_data"
    }
   ],
   "source": [
    "display.plot()"
   ]
  },
  {
   "cell_type": "markdown",
   "id": "f1eb01d4",
   "metadata": {},
   "source": [
    "Evidence 2, True Negative Gave us 0 which is an Evidence that model is overfitting."
   ]
  },
  {
   "cell_type": "code",
   "execution_count": 94,
   "id": "a361e552",
   "metadata": {},
   "outputs": [],
   "source": [
    "#we try to balance the data Here, by importing Imblancing data\n",
    "\n",
    "from imblearn.under_sampling import RandomUnderSampler\n",
    "\n",
    "rus=RandomUnderSampler()\n",
    "\n",
    "X_t,y_t=rus.fit_resample(X_train,y_train)"
   ]
  },
  {
   "cell_type": "code",
   "execution_count": 95,
   "id": "0b5a7c8b",
   "metadata": {},
   "outputs": [
    {
     "data": {
      "text/html": [
       "<div>\n",
       "<style scoped>\n",
       "    .dataframe tbody tr th:only-of-type {\n",
       "        vertical-align: middle;\n",
       "    }\n",
       "\n",
       "    .dataframe tbody tr th {\n",
       "        vertical-align: top;\n",
       "    }\n",
       "\n",
       "    .dataframe thead th {\n",
       "        text-align: right;\n",
       "    }\n",
       "</style>\n",
       "<table border=\"1\" class=\"dataframe\">\n",
       "  <thead>\n",
       "    <tr style=\"text-align: right;\">\n",
       "      <th></th>\n",
       "      <th>cc_num</th>\n",
       "      <th>category</th>\n",
       "      <th>amount</th>\n",
       "      <th>city</th>\n",
       "      <th>country</th>\n",
       "    </tr>\n",
       "  </thead>\n",
       "  <tbody>\n",
       "    <tr>\n",
       "      <th>0</th>\n",
       "      <td>4734716504534088</td>\n",
       "      <td>0</td>\n",
       "      <td>938.66</td>\n",
       "      <td>110</td>\n",
       "      <td>13</td>\n",
       "    </tr>\n",
       "    <tr>\n",
       "      <th>1</th>\n",
       "      <td>4507524133301522</td>\n",
       "      <td>4</td>\n",
       "      <td>77.44</td>\n",
       "      <td>156</td>\n",
       "      <td>13</td>\n",
       "    </tr>\n",
       "    <tr>\n",
       "      <th>2</th>\n",
       "      <td>4341955590801499</td>\n",
       "      <td>0</td>\n",
       "      <td>12.24</td>\n",
       "      <td>143</td>\n",
       "      <td>13</td>\n",
       "    </tr>\n",
       "    <tr>\n",
       "      <th>3</th>\n",
       "      <td>4845712403251888</td>\n",
       "      <td>8</td>\n",
       "      <td>1.67</td>\n",
       "      <td>106</td>\n",
       "      <td>13</td>\n",
       "    </tr>\n",
       "    <tr>\n",
       "      <th>4</th>\n",
       "      <td>4375993794662796</td>\n",
       "      <td>8</td>\n",
       "      <td>56.08</td>\n",
       "      <td>6</td>\n",
       "      <td>13</td>\n",
       "    </tr>\n",
       "    <tr>\n",
       "      <th>...</th>\n",
       "      <td>...</td>\n",
       "      <td>...</td>\n",
       "      <td>...</td>\n",
       "      <td>...</td>\n",
       "      <td>...</td>\n",
       "    </tr>\n",
       "    <tr>\n",
       "      <th>215</th>\n",
       "      <td>4587129055118889</td>\n",
       "      <td>4</td>\n",
       "      <td>14.18</td>\n",
       "      <td>6</td>\n",
       "      <td>13</td>\n",
       "    </tr>\n",
       "    <tr>\n",
       "      <th>216</th>\n",
       "      <td>4211111162683181</td>\n",
       "      <td>4</td>\n",
       "      <td>88.48</td>\n",
       "      <td>18</td>\n",
       "      <td>13</td>\n",
       "    </tr>\n",
       "    <tr>\n",
       "      <th>217</th>\n",
       "      <td>4149138213304001</td>\n",
       "      <td>4</td>\n",
       "      <td>2.98</td>\n",
       "      <td>80</td>\n",
       "      <td>13</td>\n",
       "    </tr>\n",
       "    <tr>\n",
       "      <th>218</th>\n",
       "      <td>4954572641052671</td>\n",
       "      <td>0</td>\n",
       "      <td>6383.43</td>\n",
       "      <td>157</td>\n",
       "      <td>11</td>\n",
       "    </tr>\n",
       "    <tr>\n",
       "      <th>219</th>\n",
       "      <td>4826919959712584</td>\n",
       "      <td>4</td>\n",
       "      <td>76.87</td>\n",
       "      <td>152</td>\n",
       "      <td>13</td>\n",
       "    </tr>\n",
       "  </tbody>\n",
       "</table>\n",
       "<p>220 rows × 5 columns</p>\n",
       "</div>"
      ],
      "text/plain": [
       "               cc_num  category   amount  city  country\n",
       "0    4734716504534088         0   938.66   110       13\n",
       "1    4507524133301522         4    77.44   156       13\n",
       "2    4341955590801499         0    12.24   143       13\n",
       "3    4845712403251888         8     1.67   106       13\n",
       "4    4375993794662796         8    56.08     6       13\n",
       "..                ...       ...      ...   ...      ...\n",
       "215  4587129055118889         4    14.18     6       13\n",
       "216  4211111162683181         4    88.48    18       13\n",
       "217  4149138213304001         4     2.98    80       13\n",
       "218  4954572641052671         0  6383.43   157       11\n",
       "219  4826919959712584         4    76.87   152       13\n",
       "\n",
       "[220 rows x 5 columns]"
      ]
     },
     "execution_count": 95,
     "metadata": {},
     "output_type": "execute_result"
    }
   ],
   "source": [
    "\n",
    "X_t"
   ]
  },
  {
   "cell_type": "code",
   "execution_count": 99,
   "id": "3ae4d3ed",
   "metadata": {},
   "outputs": [
    {
     "data": {
      "text/plain": [
       "0    110\n",
       "1    110\n",
       "Name: fraud_label, dtype: int64"
      ]
     },
     "execution_count": 99,
     "metadata": {},
     "output_type": "execute_result"
    }
   ],
   "source": [
    "y_t.value_counts()"
   ]
  },
  {
   "cell_type": "code",
   "execution_count": 101,
   "id": "be719c52",
   "metadata": {},
   "outputs": [
    {
     "data": {
      "text/plain": [
       "<AxesSubplot:>"
      ]
     },
     "execution_count": 101,
     "metadata": {},
     "output_type": "execute_result"
    },
    {
     "data": {
      "image/png": "[encoded data removed]",
      "text/plain": [
       "<Figure size 640x480 with 1 Axes>"
      ]
     },
     "metadata": {},
     "output_type": "display_data"
    }
   ],
   "source": [
    "X_t['amount'].plot.box(vert=False)"
   ]
  },
  {
   "cell_type": "markdown",
   "id": "a74aed6f",
   "metadata": {},
   "source": [
    "Just Exactly Like Initial Look"
   ]
  },
  {
   "cell_type": "code",
   "execution_count": 107,
   "id": "dd18f394",
   "metadata": {},
   "outputs": [],
   "source": [
    "x=X_t.copy()"
   ]
  },
  {
   "cell_type": "code",
   "execution_count": 106,
   "id": "4d2aef57",
   "metadata": {},
   "outputs": [],
   "source": [
    "Y=y_t.copy()"
   ]
  },
  {
   "cell_type": "code",
   "execution_count": 108,
   "id": "8ca6081d",
   "metadata": {},
   "outputs": [],
   "source": [
    "x_train, x_other, Y_train, Y_other = train_test_split(x, Y, test_size=0.2, random_state=72)\n",
    "x_eval, x_test, Y_eval, Y_test = train_test_split(x_other, Y_other, test_size=0.5, random_state=72)"
   ]
  },
  {
   "cell_type": "code",
   "execution_count": 111,
   "id": "4c021858",
   "metadata": {},
   "outputs": [
    {
     "data": {
      "text/plain": [
       "0.5"
      ]
     },
     "execution_count": 111,
     "metadata": {},
     "output_type": "execute_result"
    }
   ],
   "source": [
    "model_2=LinearDiscriminantAnalysis()\n",
    "model_2.fit(x_train,Y_train)\n",
    "y_eval_predict=model_2.predict(x_eval)\n",
    "accuracy_score(Y_test,y_eval_predict)"
   ]
  },
  {
   "cell_type": "code",
   "execution_count": 112,
   "id": "c299d4b9",
   "metadata": {},
   "outputs": [
    {
     "data": {
      "text/plain": [
       "0.8181818181818182"
      ]
     },
     "execution_count": 112,
     "metadata": {},
     "output_type": "execute_result"
    }
   ],
   "source": [
    "model_2=LinearDiscriminantAnalysis()\n",
    "model_2.fit(x_train,Y_train)\n",
    "y_predict=model_2.predict(x_test)\n",
    "accuracy_score(Y_test,y_predict)"
   ]
  },
  {
   "cell_type": "code",
   "execution_count": 113,
   "id": "9328842e",
   "metadata": {},
   "outputs": [
    {
     "data": {
      "text/plain": [
       "<sklearn.metrics._plot.confusion_matrix.ConfusionMatrixDisplay at 0x2069fd69e50>"
      ]
     },
     "execution_count": 113,
     "metadata": {},
     "output_type": "execute_result"
    },
    {
     "data": {
      "image/png": "[encoded data removed]",
      "text/plain": [
       "<Figure size 640x480 with 2 Axes>"
      ]
     },
     "metadata": {},
     "output_type": "display_data"
    }
   ],
   "source": [
    "cm=confusion_matrix(Y_test,y_predict,labels=model_2.classes_)\n",
    "disp=ConfusionMatrixDisplay(confusion_matrix=cm,display_labels=model_2.classes_)\n",
    "\n",
    "disp.plot()"
   ]
  },
  {
   "cell_type": "code",
   "execution_count": 114,
   "id": "e8b39df2",
   "metadata": {},
   "outputs": [
    {
     "data": {
      "text/html": [
       "<div>\n",
       "<style scoped>\n",
       "    .dataframe tbody tr th:only-of-type {\n",
       "        vertical-align: middle;\n",
       "    }\n",
       "\n",
       "    .dataframe tbody tr th {\n",
       "        vertical-align: top;\n",
       "    }\n",
       "\n",
       "    .dataframe thead th {\n",
       "        text-align: right;\n",
       "    }\n",
       "</style>\n",
       "<table border=\"1\" class=\"dataframe\">\n",
       "  <thead>\n",
       "    <tr style=\"text-align: right;\">\n",
       "      <th></th>\n",
       "      <th>cc_num</th>\n",
       "      <th>category</th>\n",
       "      <th>amount</th>\n",
       "      <th>city</th>\n",
       "      <th>country</th>\n",
       "    </tr>\n",
       "  </thead>\n",
       "  <tbody>\n",
       "    <tr>\n",
       "      <th>0</th>\n",
       "      <td>4734716504534088</td>\n",
       "      <td>0</td>\n",
       "      <td>938.66</td>\n",
       "      <td>110</td>\n",
       "      <td>13</td>\n",
       "    </tr>\n",
       "    <tr>\n",
       "      <th>1</th>\n",
       "      <td>4507524133301522</td>\n",
       "      <td>4</td>\n",
       "      <td>77.44</td>\n",
       "      <td>156</td>\n",
       "      <td>13</td>\n",
       "    </tr>\n",
       "    <tr>\n",
       "      <th>2</th>\n",
       "      <td>4341955590801499</td>\n",
       "      <td>0</td>\n",
       "      <td>12.24</td>\n",
       "      <td>143</td>\n",
       "      <td>13</td>\n",
       "    </tr>\n",
       "    <tr>\n",
       "      <th>3</th>\n",
       "      <td>4845712403251888</td>\n",
       "      <td>8</td>\n",
       "      <td>1.67</td>\n",
       "      <td>106</td>\n",
       "      <td>13</td>\n",
       "    </tr>\n",
       "    <tr>\n",
       "      <th>4</th>\n",
       "      <td>4375993794662796</td>\n",
       "      <td>8</td>\n",
       "      <td>56.08</td>\n",
       "      <td>6</td>\n",
       "      <td>13</td>\n",
       "    </tr>\n",
       "    <tr>\n",
       "      <th>...</th>\n",
       "      <td>...</td>\n",
       "      <td>...</td>\n",
       "      <td>...</td>\n",
       "      <td>...</td>\n",
       "      <td>...</td>\n",
       "    </tr>\n",
       "    <tr>\n",
       "      <th>215</th>\n",
       "      <td>4587129055118889</td>\n",
       "      <td>4</td>\n",
       "      <td>14.18</td>\n",
       "      <td>6</td>\n",
       "      <td>13</td>\n",
       "    </tr>\n",
       "    <tr>\n",
       "      <th>216</th>\n",
       "      <td>4211111162683181</td>\n",
       "      <td>4</td>\n",
       "      <td>88.48</td>\n",
       "      <td>18</td>\n",
       "      <td>13</td>\n",
       "    </tr>\n",
       "    <tr>\n",
       "      <th>217</th>\n",
       "      <td>4149138213304001</td>\n",
       "      <td>4</td>\n",
       "      <td>2.98</td>\n",
       "      <td>80</td>\n",
       "      <td>13</td>\n",
       "    </tr>\n",
       "    <tr>\n",
       "      <th>218</th>\n",
       "      <td>4954572641052671</td>\n",
       "      <td>0</td>\n",
       "      <td>6383.43</td>\n",
       "      <td>157</td>\n",
       "      <td>11</td>\n",
       "    </tr>\n",
       "    <tr>\n",
       "      <th>219</th>\n",
       "      <td>4826919959712584</td>\n",
       "      <td>4</td>\n",
       "      <td>76.87</td>\n",
       "      <td>152</td>\n",
       "      <td>13</td>\n",
       "    </tr>\n",
       "  </tbody>\n",
       "</table>\n",
       "<p>220 rows × 5 columns</p>\n",
       "</div>"
      ],
      "text/plain": [
       "               cc_num  category   amount  city  country\n",
       "0    4734716504534088         0   938.66   110       13\n",
       "1    4507524133301522         4    77.44   156       13\n",
       "2    4341955590801499         0    12.24   143       13\n",
       "3    4845712403251888         8     1.67   106       13\n",
       "4    4375993794662796         8    56.08     6       13\n",
       "..                ...       ...      ...   ...      ...\n",
       "215  4587129055118889         4    14.18     6       13\n",
       "216  4211111162683181         4    88.48    18       13\n",
       "217  4149138213304001         4     2.98    80       13\n",
       "218  4954572641052671         0  6383.43   157       11\n",
       "219  4826919959712584         4    76.87   152       13\n",
       "\n",
       "[220 rows x 5 columns]"
      ]
     },
     "execution_count": 114,
     "metadata": {},
     "output_type": "execute_result"
    }
   ],
   "source": [
    "#Will this Our model Able to detect Fraud Detection accurately?\n",
    "\n",
    "x"
   ]
  },
  {
   "cell_type": "code",
   "execution_count": 125,
   "id": "f16cc1af",
   "metadata": {},
   "outputs": [
    {
     "name": "stderr",
     "output_type": "stream",
     "text": [
      "C:\\Users\\HP\\anaconda3\\lib\\site-packages\\sklearn\\base.py:450: UserWarning: X does not have valid feature names, but LinearDiscriminantAnalysis was fitted with feature names\n",
      "  warnings.warn(\n"
     ]
    },
    {
     "data": {
      "text/plain": [
       "array([0], dtype=int64)"
      ]
     },
     "execution_count": 125,
     "metadata": {},
     "output_type": "execute_result"
    }
   ],
   "source": [
    "feature=[[4734716504534088,0,56,110,13]]\n",
    "\n",
    "model_2.predict(feature)"
   ]
  },
  {
   "cell_type": "code",
   "execution_count": 127,
   "id": "603794cf",
   "metadata": {},
   "outputs": [
    {
     "name": "stderr",
     "output_type": "stream",
     "text": [
      "C:\\Users\\HP\\anaconda3\\lib\\site-packages\\sklearn\\base.py:450: UserWarning: X does not have valid feature names, but LinearDiscriminantAnalysis was fitted with feature names\n",
      "  warnings.warn(\n"
     ]
    },
    {
     "data": {
      "text/plain": [
       "array([[0.64627616, 0.35372384]])"
      ]
     },
     "execution_count": 127,
     "metadata": {},
     "output_type": "execute_result"
    }
   ],
   "source": [
    "#checking the Assurance level\n",
    "\n",
    "feature=[[4734716504534088,0,56,110,13]]\n",
    "\n",
    "model_2.predict_proba(feature)"
   ]
  },
  {
   "cell_type": "markdown",
   "id": "0b7c5a46",
   "metadata": {},
   "source": [
    "The Assurance level is 0.64 while the errorate is 0.35."
   ]
  },
  {
   "cell_type": "code",
   "execution_count": 135,
   "id": "1f48ce71",
   "metadata": {},
   "outputs": [],
   "source": [
    "#but till Let get more data to see if we will improve our model Accuracy\n",
    "\n",
    "from imblearn.over_sampling import SMOTE"
   ]
  },
  {
   "cell_type": "code",
   "execution_count": 136,
   "id": "76b00de4",
   "metadata": {},
   "outputs": [],
   "source": [
    "smot=SMOTE()\n",
    "X,y=smot.fit_resample(X,y)"
   ]
  },
  {
   "cell_type": "code",
   "execution_count": 137,
   "id": "4f0c8308",
   "metadata": {},
   "outputs": [
    {
     "data": {
      "text/plain": [
       "0    105865\n",
       "1    105865\n",
       "Name: fraud_label, dtype: int64"
      ]
     },
     "execution_count": 137,
     "metadata": {},
     "output_type": "execute_result"
    }
   ],
   "source": [
    "y.value_counts()"
   ]
  },
  {
   "cell_type": "markdown",
   "id": "de43550e",
   "metadata": {},
   "source": [
    "#Great__"
   ]
  },
  {
   "cell_type": "code",
   "execution_count": 140,
   "id": "35f0a657",
   "metadata": {},
   "outputs": [
    {
     "data": {
      "text/html": [
       "<div>\n",
       "<style scoped>\n",
       "    .dataframe tbody tr th:only-of-type {\n",
       "        vertical-align: middle;\n",
       "    }\n",
       "\n",
       "    .dataframe tbody tr th {\n",
       "        vertical-align: top;\n",
       "    }\n",
       "\n",
       "    .dataframe thead th {\n",
       "        text-align: right;\n",
       "    }\n",
       "</style>\n",
       "<table border=\"1\" class=\"dataframe\">\n",
       "  <thead>\n",
       "    <tr style=\"text-align: right;\">\n",
       "      <th></th>\n",
       "      <th>cc_num</th>\n",
       "      <th>category</th>\n",
       "      <th>amount</th>\n",
       "      <th>city</th>\n",
       "      <th>country</th>\n",
       "    </tr>\n",
       "  </thead>\n",
       "  <tbody>\n",
       "    <tr>\n",
       "      <th>0</th>\n",
       "      <td>4473593503484549</td>\n",
       "      <td>5</td>\n",
       "      <td>62.950000</td>\n",
       "      <td>22</td>\n",
       "      <td>13</td>\n",
       "    </tr>\n",
       "    <tr>\n",
       "      <th>1</th>\n",
       "      <td>4272465718946864</td>\n",
       "      <td>4</td>\n",
       "      <td>85.450000</td>\n",
       "      <td>80</td>\n",
       "      <td>13</td>\n",
       "    </tr>\n",
       "    <tr>\n",
       "      <th>2</th>\n",
       "      <td>4104216579248948</td>\n",
       "      <td>2</td>\n",
       "      <td>21.630000</td>\n",
       "      <td>96</td>\n",
       "      <td>13</td>\n",
       "    </tr>\n",
       "    <tr>\n",
       "      <th>3</th>\n",
       "      <td>4814447237003448</td>\n",
       "      <td>5</td>\n",
       "      <td>54.710000</td>\n",
       "      <td>106</td>\n",
       "      <td>13</td>\n",
       "    </tr>\n",
       "    <tr>\n",
       "      <th>4</th>\n",
       "      <td>4515188652242507</td>\n",
       "      <td>4</td>\n",
       "      <td>59.220000</td>\n",
       "      <td>129</td>\n",
       "      <td>13</td>\n",
       "    </tr>\n",
       "    <tr>\n",
       "      <th>...</th>\n",
       "      <td>...</td>\n",
       "      <td>...</td>\n",
       "      <td>...</td>\n",
       "      <td>...</td>\n",
       "      <td>...</td>\n",
       "    </tr>\n",
       "    <tr>\n",
       "      <th>211725</th>\n",
       "      <td>4763158569828903</td>\n",
       "      <td>4</td>\n",
       "      <td>88.650996</td>\n",
       "      <td>7</td>\n",
       "      <td>13</td>\n",
       "    </tr>\n",
       "    <tr>\n",
       "      <th>211726</th>\n",
       "      <td>4845713192009782</td>\n",
       "      <td>1</td>\n",
       "      <td>3.289353</td>\n",
       "      <td>69</td>\n",
       "      <td>7</td>\n",
       "    </tr>\n",
       "    <tr>\n",
       "      <th>211727</th>\n",
       "      <td>4180626258571302</td>\n",
       "      <td>4</td>\n",
       "      <td>15.060309</td>\n",
       "      <td>31</td>\n",
       "      <td>13</td>\n",
       "    </tr>\n",
       "    <tr>\n",
       "      <th>211728</th>\n",
       "      <td>4826919959712584</td>\n",
       "      <td>4</td>\n",
       "      <td>7.949669</td>\n",
       "      <td>27</td>\n",
       "      <td>13</td>\n",
       "    </tr>\n",
       "    <tr>\n",
       "      <th>211729</th>\n",
       "      <td>4826919959712584</td>\n",
       "      <td>4</td>\n",
       "      <td>4.854334</td>\n",
       "      <td>12</td>\n",
       "      <td>13</td>\n",
       "    </tr>\n",
       "  </tbody>\n",
       "</table>\n",
       "<p>211730 rows × 5 columns</p>\n",
       "</div>"
      ],
      "text/plain": [
       "                  cc_num  category     amount  city  country\n",
       "0       4473593503484549         5  62.950000    22       13\n",
       "1       4272465718946864         4  85.450000    80       13\n",
       "2       4104216579248948         2  21.630000    96       13\n",
       "3       4814447237003448         5  54.710000   106       13\n",
       "4       4515188652242507         4  59.220000   129       13\n",
       "...                  ...       ...        ...   ...      ...\n",
       "211725  4763158569828903         4  88.650996     7       13\n",
       "211726  4845713192009782         1   3.289353    69        7\n",
       "211727  4180626258571302         4  15.060309    31       13\n",
       "211728  4826919959712584         4   7.949669    27       13\n",
       "211729  4826919959712584         4   4.854334    12       13\n",
       "\n",
       "[211730 rows x 5 columns]"
      ]
     },
     "execution_count": 140,
     "metadata": {},
     "output_type": "execute_result"
    }
   ],
   "source": [
    "X"
   ]
  },
  {
   "cell_type": "code",
   "execution_count": 138,
   "id": "87af05c2",
   "metadata": {},
   "outputs": [],
   "source": [
    "#We Retrain\n",
    "\n",
    "X_train, X_other, y_train, y_other = train_test_split(X, y, test_size=0.3, random_state=7)\n",
    "X_eval, X_test, y_eval, y_test = train_test_split(X_other, y_other, test_size=0.5, random_state=7)"
   ]
  },
  {
   "cell_type": "code",
   "execution_count": 139,
   "id": "62979019",
   "metadata": {},
   "outputs": [],
   "source": [
    "from sklearn.ensemble import RandomForestClassifier"
   ]
  },
  {
   "cell_type": "code",
   "execution_count": 143,
   "id": "b1833e90",
   "metadata": {},
   "outputs": [
    {
     "name": "stdout",
     "output_type": "stream",
     "text": [
      "Accuracy Score : 0.9970403022670025\n"
     ]
    }
   ],
   "source": [
    "Model=RandomForestClassifier()\n",
    "Model.fit(X_train,y_train)\n",
    "test_predict=Model.predict(X_test)\n",
    "print(f'Accuracy Score :',accuracy_score(y_test,test_predict))"
   ]
  },
  {
   "cell_type": "code",
   "execution_count": 144,
   "id": "c0d5ae07",
   "metadata": {},
   "outputs": [
    {
     "data": {
      "text/plain": [
       "<sklearn.metrics._plot.confusion_matrix.ConfusionMatrixDisplay at 0x206a32ceac0>"
      ]
     },
     "execution_count": 144,
     "metadata": {},
     "output_type": "execute_result"
    },
    {
     "data": {
      "image/png": "[encoded data removed]",
      "text/plain": [
       "<Figure size 640x480 with 2 Axes>"
      ]
     },
     "metadata": {},
     "output_type": "display_data"
    }
   ],
   "source": [
    "cmm=confusion_matrix(y_test,test_predict,labels=Model.classes_)\n",
    "displa=ConfusionMatrixDisplay(confusion_matrix=cmm,display_labels=Model.classes_)\n",
    "\n",
    "displa.plot()"
   ]
  },
  {
   "cell_type": "markdown",
   "id": "14e66a09",
   "metadata": {},
   "source": [
    "This Model Is Absolutely Cool"
   ]
  },
  {
   "cell_type": "code",
   "execution_count": 145,
   "id": "ed88ff0b",
   "metadata": {},
   "outputs": [
    {
     "data": {
      "text/html": [
       "<div>\n",
       "<style scoped>\n",
       "    .dataframe tbody tr th:only-of-type {\n",
       "        vertical-align: middle;\n",
       "    }\n",
       "\n",
       "    .dataframe tbody tr th {\n",
       "        vertical-align: top;\n",
       "    }\n",
       "\n",
       "    .dataframe thead th {\n",
       "        text-align: right;\n",
       "    }\n",
       "</style>\n",
       "<table border=\"1\" class=\"dataframe\">\n",
       "  <thead>\n",
       "    <tr style=\"text-align: right;\">\n",
       "      <th></th>\n",
       "      <th>cc_num</th>\n",
       "      <th>category</th>\n",
       "      <th>amount</th>\n",
       "      <th>city</th>\n",
       "      <th>country</th>\n",
       "    </tr>\n",
       "  </thead>\n",
       "  <tbody>\n",
       "    <tr>\n",
       "      <th>0</th>\n",
       "      <td>4473593503484549</td>\n",
       "      <td>5</td>\n",
       "      <td>62.950000</td>\n",
       "      <td>22</td>\n",
       "      <td>13</td>\n",
       "    </tr>\n",
       "    <tr>\n",
       "      <th>1</th>\n",
       "      <td>4272465718946864</td>\n",
       "      <td>4</td>\n",
       "      <td>85.450000</td>\n",
       "      <td>80</td>\n",
       "      <td>13</td>\n",
       "    </tr>\n",
       "    <tr>\n",
       "      <th>2</th>\n",
       "      <td>4104216579248948</td>\n",
       "      <td>2</td>\n",
       "      <td>21.630000</td>\n",
       "      <td>96</td>\n",
       "      <td>13</td>\n",
       "    </tr>\n",
       "    <tr>\n",
       "      <th>3</th>\n",
       "      <td>4814447237003448</td>\n",
       "      <td>5</td>\n",
       "      <td>54.710000</td>\n",
       "      <td>106</td>\n",
       "      <td>13</td>\n",
       "    </tr>\n",
       "    <tr>\n",
       "      <th>4</th>\n",
       "      <td>4515188652242507</td>\n",
       "      <td>4</td>\n",
       "      <td>59.220000</td>\n",
       "      <td>129</td>\n",
       "      <td>13</td>\n",
       "    </tr>\n",
       "    <tr>\n",
       "      <th>...</th>\n",
       "      <td>...</td>\n",
       "      <td>...</td>\n",
       "      <td>...</td>\n",
       "      <td>...</td>\n",
       "      <td>...</td>\n",
       "    </tr>\n",
       "    <tr>\n",
       "      <th>211725</th>\n",
       "      <td>4763158569828903</td>\n",
       "      <td>4</td>\n",
       "      <td>88.650996</td>\n",
       "      <td>7</td>\n",
       "      <td>13</td>\n",
       "    </tr>\n",
       "    <tr>\n",
       "      <th>211726</th>\n",
       "      <td>4845713192009782</td>\n",
       "      <td>1</td>\n",
       "      <td>3.289353</td>\n",
       "      <td>69</td>\n",
       "      <td>7</td>\n",
       "    </tr>\n",
       "    <tr>\n",
       "      <th>211727</th>\n",
       "      <td>4180626258571302</td>\n",
       "      <td>4</td>\n",
       "      <td>15.060309</td>\n",
       "      <td>31</td>\n",
       "      <td>13</td>\n",
       "    </tr>\n",
       "    <tr>\n",
       "      <th>211728</th>\n",
       "      <td>4826919959712584</td>\n",
       "      <td>4</td>\n",
       "      <td>7.949669</td>\n",
       "      <td>27</td>\n",
       "      <td>13</td>\n",
       "    </tr>\n",
       "    <tr>\n",
       "      <th>211729</th>\n",
       "      <td>4826919959712584</td>\n",
       "      <td>4</td>\n",
       "      <td>4.854334</td>\n",
       "      <td>12</td>\n",
       "      <td>13</td>\n",
       "    </tr>\n",
       "  </tbody>\n",
       "</table>\n",
       "<p>211730 rows × 5 columns</p>\n",
       "</div>"
      ],
      "text/plain": [
       "                  cc_num  category     amount  city  country\n",
       "0       4473593503484549         5  62.950000    22       13\n",
       "1       4272465718946864         4  85.450000    80       13\n",
       "2       4104216579248948         2  21.630000    96       13\n",
       "3       4814447237003448         5  54.710000   106       13\n",
       "4       4515188652242507         4  59.220000   129       13\n",
       "...                  ...       ...        ...   ...      ...\n",
       "211725  4763158569828903         4  88.650996     7       13\n",
       "211726  4845713192009782         1   3.289353    69        7\n",
       "211727  4180626258571302         4  15.060309    31       13\n",
       "211728  4826919959712584         4   7.949669    27       13\n",
       "211729  4826919959712584         4   4.854334    12       13\n",
       "\n",
       "[211730 rows x 5 columns]"
      ]
     },
     "execution_count": 145,
     "metadata": {},
     "output_type": "execute_result"
    }
   ],
   "source": [
    "X"
   ]
  },
  {
   "cell_type": "code",
   "execution_count": 146,
   "id": "a4a88c93",
   "metadata": {},
   "outputs": [
    {
     "data": {
      "text/plain": [
       "0         0\n",
       "1         0\n",
       "2         0\n",
       "3         0\n",
       "4         0\n",
       "         ..\n",
       "211725    1\n",
       "211726    1\n",
       "211727    1\n",
       "211728    1\n",
       "211729    1\n",
       "Name: fraud_label, Length: 211730, dtype: int64"
      ]
     },
     "execution_count": 146,
     "metadata": {},
     "output_type": "execute_result"
    }
   ],
   "source": [
    "y"
   ]
  },
  {
   "cell_type": "code",
   "execution_count": 147,
   "id": "f2522a07",
   "metadata": {},
   "outputs": [
    {
     "name": "stderr",
     "output_type": "stream",
     "text": [
      "C:\\Users\\HP\\anaconda3\\lib\\site-packages\\sklearn\\base.py:450: UserWarning: X does not have valid feature names, but RandomForestClassifier was fitted with feature names\n",
      "  warnings.warn(\n"
     ]
    },
    {
     "data": {
      "text/plain": [
       "array([1], dtype=int64)"
      ]
     },
     "execution_count": 147,
     "metadata": {},
     "output_type": "execute_result"
    }
   ],
   "source": [
    "Custumer_3=[[4826919959712584,4,4.854334,12,13]]\n",
    "\n",
    "Model.predict(Custumer_3)"
   ]
  },
  {
   "cell_type": "markdown",
   "id": "dadcfc50",
   "metadata": {},
   "source": [
    "this model is more valuebale. \n",
    "\n",
    "one can assurace That the model will be able to detect Fraud Detection"
   ]
  },
  {
   "cell_type": "code",
   "execution_count": 149,
   "id": "d40ef7d1",
   "metadata": {},
   "outputs": [
    {
     "name": "stderr",
     "output_type": "stream",
     "text": [
      "C:\\Users\\HP\\anaconda3\\lib\\site-packages\\sklearn\\base.py:450: UserWarning: X does not have valid feature names, but RandomForestClassifier was fitted with feature names\n",
      "  warnings.warn(\n"
     ]
    },
    {
     "data": {
      "text/plain": [
       "array([0], dtype=int64)"
      ]
     },
     "execution_count": 149,
     "metadata": {},
     "output_type": "execute_result"
    }
   ],
   "source": [
    "Model.predict(Custumer2)\n"
   ]
  },
  {
   "cell_type": "code",
   "execution_count": 151,
   "id": "dee271a5",
   "metadata": {},
   "outputs": [
    {
     "name": "stderr",
     "output_type": "stream",
     "text": [
      "C:\\Users\\HP\\anaconda3\\lib\\site-packages\\sklearn\\base.py:450: UserWarning: X does not have valid feature names, but RandomForestClassifier was fitted with feature names\n",
      "  warnings.warn(\n"
     ]
    },
    {
     "data": {
      "text/plain": [
       "array([[0.82, 0.18]])"
      ]
     },
     "execution_count": 151,
     "metadata": {},
     "output_type": "execute_result"
    }
   ],
   "source": [
    "Model.predict_proba(Custumer2)"
   ]
  },
  {
   "cell_type": "code",
   "execution_count": 150,
   "id": "bb6518c8",
   "metadata": {},
   "outputs": [
    {
     "name": "stderr",
     "output_type": "stream",
     "text": [
      "C:\\Users\\HP\\anaconda3\\lib\\site-packages\\sklearn\\base.py:450: UserWarning: X does not have valid feature names, but RandomForestClassifier was fitted with feature names\n",
      "  warnings.warn(\n"
     ]
    },
    {
     "data": {
      "text/plain": [
       "array([0], dtype=int64)"
      ]
     },
     "execution_count": 150,
     "metadata": {},
     "output_type": "execute_result"
    }
   ],
   "source": [
    "Model.predict(Custumer)"
   ]
  },
  {
   "cell_type": "code",
   "execution_count": 153,
   "id": "bba242d5",
   "metadata": {},
   "outputs": [
    {
     "name": "stderr",
     "output_type": "stream",
     "text": [
      "C:\\Users\\HP\\anaconda3\\lib\\site-packages\\sklearn\\base.py:450: UserWarning: X does not have valid feature names, but RandomForestClassifier was fitted with feature names\n",
      "  warnings.warn(\n"
     ]
    },
    {
     "data": {
      "text/plain": [
       "array([[1., 0.]])"
      ]
     },
     "execution_count": 153,
     "metadata": {},
     "output_type": "execute_result"
    }
   ],
   "source": [
    "Model.predict_proba(Custumer)"
   ]
  },
  {
   "cell_type": "markdown",
   "id": "b5d12844",
   "metadata": {},
   "source": [
    "This result is telling us That is 100% sure this Transaction is NotFraud And givening 100% assurance"
   ]
  },
  {
   "cell_type": "code",
   "execution_count": 155,
   "id": "788a2fa4",
   "metadata": {},
   "outputs": [],
   "source": [
    "#let drop the Model to picke\n",
    "\n",
    "\n",
    "import pickle as pk"
   ]
  },
  {
   "cell_type": "code",
   "execution_count": 160,
   "id": "a7d34fc7",
   "metadata": {},
   "outputs": [],
   "source": [
    "with open('Model.pk','wb') as files:\n",
    "    pk.dump(Model,files)"
   ]
  },
  {
   "cell_type": "code",
   "execution_count": null,
   "id": "a9e66311",
   "metadata": {},
   "outputs": [],
   "source": []
  }
 ],
 "metadata": {
  "kernelspec": {
   "display_name": "Python 3 (ipykernel)",
   "language": "python",
   "name": "python3"
  },
  "language_info": {
   "codemirror_mode": {
    "name": "ipython",
    "version": 3
   },
   "file_extension": ".py",
   "mimetype": "text/x-python",
   "name": "python",
   "nbconvert_exporter": "python",
   "pygments_lexer": "ipython3",
   "version": "3.9.13"
  }
 },
 "nbformat": 4,
 "nbformat_minor": 5
}
